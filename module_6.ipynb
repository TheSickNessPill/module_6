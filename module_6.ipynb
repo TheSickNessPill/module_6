{
 "cells": [
  {
   "cell_type": "markdown",
   "metadata": {},
   "source": [
    "# Библиотеки"
   ]
  },
  {
   "cell_type": "code",
   "execution_count": 1,
   "metadata": {},
   "outputs": [
    {
     "name": "stderr",
     "output_type": "stream",
     "text": [
      "B:\\Anaconda\\lib\\site-packages\\lightfm\\_lightfm_fast.py:10: UserWarning: LightFM was compiled without OpenMP support. Only a single thread will be used.\n",
      "  \"LightFM was compiled without OpenMP support. \"\n"
     ]
    }
   ],
   "source": [
    "import numpy as np\n",
    "import pandas as pd\n",
    "from collections import Counter\n",
    "import json\n",
    "import re\n",
    "import os\n",
    "from datetime import datetime\n",
    "import matplotlib.pyplot as plt\n",
    "import seaborn as sns\n",
    "from itertools import combinations\n",
    "from scipy.stats import ttest_ind\n",
    "import scipy.sparse as sparse\n",
    "\n",
    "from lightfm import LightFM\n",
    "from lightfm.cross_validation import random_train_test_split\n",
    "from lightfm.evaluation import auc_score, precision_at_k, recall_at_k\n",
    "import sklearn\n",
    "from sklearn.model_selection import train_test_split\n",
    "\n",
    "import scipy.sparse as sparse\n",
    "\n",
    "pd.set_option('display.max_columns', None)"
   ]
  },
  {
   "cell_type": "markdown",
   "metadata": {},
   "source": [
    "# Функции"
   ]
  },
  {
   "cell_type": "code",
   "execution_count": 2,
   "metadata": {},
   "outputs": [],
   "source": [
    "def info_col(df,hist=False):\n",
    "    print('Количество пропусков: {},'.format(df.isnull().sum()));print()\n",
    "    print('{},'.format(df.describe()));print()\n",
    "    print('Распределение:\\n{},'.format(df.value_counts()));print()\n",
    "    if hist==True:\n",
    "        print(df.hist())"
   ]
  },
  {
   "cell_type": "code",
   "execution_count": 3,
   "metadata": {},
   "outputs": [],
   "source": [
    "def cat_date(x):\n",
    "    if x <= Q25: x = 'old'\n",
    "    elif Q25 < x <= Q50: x = 'middle_old'\n",
    "    elif Q50 < x <= Q75: x = 'middle_new'\n",
    "    elif Q75 < x: x = 'new'\n",
    "    return x"
   ]
  },
  {
   "cell_type": "code",
   "execution_count": 4,
   "metadata": {},
   "outputs": [],
   "source": [
    "def cat_vote(x):\n",
    "    if x < 20: x = 'low'\n",
    "    elif 20 <= x <= 100: x = 'middle'\n",
    "    elif 100 < x: x = 'high'\n",
    "    return x"
   ]
  },
  {
   "cell_type": "code",
   "execution_count": 5,
   "metadata": {},
   "outputs": [],
   "source": [
    "def cat_rank(x):\n",
    "    if x < 1093: x = 'high'\n",
    "    elif 1093 <= x <= 18000: x = 'middle'\n",
    "    elif 18000 < x: x = 'low'\n",
    "    return x"
   ]
  },
  {
   "cell_type": "code",
   "execution_count": 6,
   "metadata": {},
   "outputs": [],
   "source": [
    "def cat_price(x):\n",
    "    if x < 1397: x = 'low'\n",
    "    elif 1397 <= x <= 2099: x = 'middle'\n",
    "    elif 2099 < x: x = 'high'\n",
    "    return x"
   ]
  },
  {
   "cell_type": "code",
   "execution_count": 7,
   "metadata": {},
   "outputs": [],
   "source": [
    "def get_boxplot(column):\n",
    "    fig, ax = plt.subplots(figsize = (14, 4))\n",
    "    sns.boxplot(x=column, y='overall', \n",
    "                data=df_train.loc[df_train.loc[:, column].isin(df_train.loc[:, column].value_counts().index[:10])],\n",
    "               ax=ax)\n",
    "    plt.xticks(rotation=45)\n",
    "    ax.set_title('Boxplot for ' + column)\n",
    "    plt.show()"
   ]
  },
  {
   "cell_type": "code",
   "execution_count": 8,
   "metadata": {},
   "outputs": [],
   "source": [
    "def get_stat_dif(column):\n",
    "    cols = df_train.loc[:, column].value_counts().index[:10]\n",
    "    combinations_all = list(combinations(cols, 2))\n",
    "    for comb in combinations_all:\n",
    "        if ttest_ind(df_train.loc[df_train.loc[:, column] == comb[0], 'overall'], \n",
    "                        df_train.loc[df_train.loc[:, column] == comb[1], 'overall']).pvalue \\\n",
    "            <= 0.05/len(combinations_all): # Учли поправку Бонферони\n",
    "            print('Найдены статистически значимые различия для колонки', column)\n",
    "            break"
   ]
  },
  {
   "cell_type": "markdown",
   "metadata": {},
   "source": [
    "# Загрузка датасетов"
   ]
  },
  {
   "cell_type": "code",
   "execution_count": 9,
   "metadata": {},
   "outputs": [
    {
     "name": "stderr",
     "output_type": "stream",
     "text": [
      "B:\\Anaconda\\lib\\site-packages\\IPython\\core\\interactiveshell.py:3147: DtypeWarning: Columns (8) have mixed types.Specify dtype option on import or set low_memory=False.\n",
      "  interactivity=interactivity, compiler=compiler, result=result)\n",
      "B:\\Anaconda\\lib\\site-packages\\IPython\\core\\interactiveshell.py:3147: DtypeWarning: Columns (5) have mixed types.Specify dtype option on import or set low_memory=False.\n",
      "  interactivity=interactivity, compiler=compiler, result=result)\n"
     ]
    }
   ],
   "source": [
    "train  = pd.read_csv('B:/SKILL_FACTORY/recommendationsv4/train.csv')\n",
    "test = pd.read_csv('B:/SKILL_FACTORY/recommendationsv4/test.csv')\n",
    "with open ('B:/SKILL_FACTORY/recommendationsv4/meta_Grocery_and_Gourmet_Food.json') as f:\n",
    "    meta=[]\n",
    "    for line in f.readlines():\n",
    "        meta.append(json.loads(line))\n",
    "meta = pd.DataFrame(meta)"
   ]
  },
  {
   "cell_type": "markdown",
   "metadata": {},
   "source": [
    "Проверка на дубликаты"
   ]
  },
  {
   "cell_type": "code",
   "execution_count": 10,
   "metadata": {},
   "outputs": [
    {
     "name": "stdout",
     "output_type": "stream",
     "text": [
      "28960 0\n"
     ]
    }
   ],
   "source": [
    "print(train.duplicated().sum(),\n",
    "      test.duplicated().sum())"
   ]
  },
  {
   "cell_type": "code",
   "execution_count": 11,
   "metadata": {},
   "outputs": [],
   "source": [
    "train.drop_duplicates(inplace=True)"
   ]
  },
  {
   "cell_type": "markdown",
   "metadata": {},
   "source": [
    "# Обзор датасетов"
   ]
  },
  {
   "cell_type": "code",
   "execution_count": 12,
   "metadata": {},
   "outputs": [
    {
     "name": "stdout",
     "output_type": "stream",
     "text": [
      "<class 'pandas.core.frame.DataFrame'>\n",
      "Int64Index: 828935 entries, 0 to 857894\n",
      "Data columns (total 14 columns):\n",
      " #   Column          Non-Null Count   Dtype  \n",
      "---  ------          --------------   -----  \n",
      " 0   overall         828935 non-null  float64\n",
      " 1   verified        828935 non-null  bool   \n",
      " 2   reviewTime      828935 non-null  object \n",
      " 3   asin            828935 non-null  object \n",
      " 4   reviewerName    828771 non-null  object \n",
      " 5   reviewText      828661 non-null  object \n",
      " 6   summary         828769 non-null  object \n",
      " 7   unixReviewTime  828935 non-null  int64  \n",
      " 8   vote            115991 non-null  object \n",
      " 9   style           429265 non-null  object \n",
      " 10  image           7026 non-null    object \n",
      " 11  userid          828935 non-null  int64  \n",
      " 12  itemid          828935 non-null  int64  \n",
      " 13  rating          828935 non-null  float64\n",
      "dtypes: bool(1), float64(2), int64(3), object(8)\n",
      "memory usage: 89.3+ MB\n"
     ]
    }
   ],
   "source": [
    "train.info()"
   ]
  },
  {
   "cell_type": "code",
   "execution_count": 13,
   "metadata": {},
   "outputs": [
    {
     "name": "stdout",
     "output_type": "stream",
     "text": [
      "<class 'pandas.core.frame.DataFrame'>\n",
      "RangeIndex: 285965 entries, 0 to 285964\n",
      "Data columns (total 11 columns):\n",
      " #   Column          Non-Null Count   Dtype \n",
      "---  ------          --------------   ----- \n",
      " 0   verified        285965 non-null  bool  \n",
      " 1   reviewTime      285965 non-null  object\n",
      " 2   asin            285965 non-null  object\n",
      " 3   reviewerName    285918 non-null  object\n",
      " 4   unixReviewTime  285965 non-null  int64 \n",
      " 5   vote            39462 non-null   object\n",
      " 6   style           147680 non-null  object\n",
      " 7   image           2368 non-null    object\n",
      " 8   userid          285965 non-null  int64 \n",
      " 9   itemid          285965 non-null  int64 \n",
      " 10  Id              285965 non-null  int64 \n",
      "dtypes: bool(1), int64(4), object(6)\n",
      "memory usage: 22.1+ MB\n"
     ]
    }
   ],
   "source": [
    "test.info()"
   ]
  },
  {
   "cell_type": "markdown",
   "metadata": {},
   "source": [
    "Видим, что в тренировочном датасете на 4 столбца больше:\n",
    "\n",
    "overall - рейтинг, который поставил пользователь\n",
    "\n",
    "reviewText - текст отзыва\n",
    "\n",
    "summary - краткое содержание отзыва\n",
    "\n",
    "rating - целевая переманная\n",
    "\n",
    "При этом в тренировочном датасете нет столбца id"
   ]
  },
  {
   "cell_type": "code",
   "execution_count": 14,
   "metadata": {},
   "outputs": [
    {
     "name": "stdout",
     "output_type": "stream",
     "text": [
      "<class 'pandas.core.frame.DataFrame'>\n",
      "RangeIndex: 287209 entries, 0 to 287208\n",
      "Data columns (total 17 columns):\n",
      " #   Column        Non-Null Count   Dtype \n",
      "---  ------        --------------   ----- \n",
      " 0   category      287209 non-null  object\n",
      " 1   description   251802 non-null  object\n",
      " 2   title         287205 non-null  object\n",
      " 3   brand         275787 non-null  object\n",
      " 4   rank          275494 non-null  object\n",
      " 5   also_view     121012 non-null  object\n",
      " 6   main_cat      285716 non-null  object\n",
      " 7   price         132136 non-null  object\n",
      " 8   asin          287209 non-null  object\n",
      " 9   also_buy      83332 non-null   object\n",
      " 10  image         150214 non-null  object\n",
      " 11  date          9663 non-null    object\n",
      " 12  feature       16374 non-null   object\n",
      " 13  details       273323 non-null  object\n",
      " 14  similar_item  256 non-null     object\n",
      " 15  tech1         744 non-null     object\n",
      " 16  fit           4 non-null       object\n",
      "dtypes: object(17)\n",
      "memory usage: 37.3+ MB\n"
     ]
    }
   ],
   "source": [
    "meta.info()"
   ]
  },
  {
   "cell_type": "markdown",
   "metadata": {},
   "source": [
    "Объединим тренировочный датасет и данные из meta по идентификатору asin (Amazon Standard Identification Number)"
   ]
  },
  {
   "cell_type": "code",
   "execution_count": 15,
   "metadata": {},
   "outputs": [],
   "source": [
    "df_train = pd.merge(train,meta, on = 'asin')"
   ]
  },
  {
   "cell_type": "markdown",
   "metadata": {},
   "source": [
    "# EDA"
   ]
  },
  {
   "cell_type": "code",
   "execution_count": 16,
   "metadata": {
    "scrolled": true
   },
   "outputs": [
    {
     "data": {
      "text/html": [
       "<div>\n",
       "<style scoped>\n",
       "    .dataframe tbody tr th:only-of-type {\n",
       "        vertical-align: middle;\n",
       "    }\n",
       "\n",
       "    .dataframe tbody tr th {\n",
       "        vertical-align: top;\n",
       "    }\n",
       "\n",
       "    .dataframe thead th {\n",
       "        text-align: right;\n",
       "    }\n",
       "</style>\n",
       "<table border=\"1\" class=\"dataframe\">\n",
       "  <thead>\n",
       "    <tr style=\"text-align: right;\">\n",
       "      <th></th>\n",
       "      <th>overall</th>\n",
       "      <th>verified</th>\n",
       "      <th>reviewTime</th>\n",
       "      <th>asin</th>\n",
       "      <th>reviewerName</th>\n",
       "      <th>reviewText</th>\n",
       "      <th>summary</th>\n",
       "      <th>unixReviewTime</th>\n",
       "      <th>vote</th>\n",
       "      <th>style</th>\n",
       "      <th>image_x</th>\n",
       "      <th>userid</th>\n",
       "      <th>itemid</th>\n",
       "      <th>rating</th>\n",
       "      <th>category</th>\n",
       "      <th>description</th>\n",
       "      <th>title</th>\n",
       "      <th>brand</th>\n",
       "      <th>rank</th>\n",
       "      <th>also_view</th>\n",
       "      <th>main_cat</th>\n",
       "      <th>price</th>\n",
       "      <th>also_buy</th>\n",
       "      <th>image_y</th>\n",
       "      <th>date</th>\n",
       "      <th>feature</th>\n",
       "      <th>details</th>\n",
       "      <th>similar_item</th>\n",
       "      <th>tech1</th>\n",
       "      <th>fit</th>\n",
       "    </tr>\n",
       "  </thead>\n",
       "  <tbody>\n",
       "    <tr>\n",
       "      <th>0</th>\n",
       "      <td>5.0</td>\n",
       "      <td>True</td>\n",
       "      <td>10 4, 2016</td>\n",
       "      <td>B01CPNIEQG</td>\n",
       "      <td>Heather</td>\n",
       "      <td>These are my FAVORITE spices in my collection....</td>\n",
       "      <td>Must Add to your Spice kitchen!</td>\n",
       "      <td>1475539200</td>\n",
       "      <td>NaN</td>\n",
       "      <td>NaN</td>\n",
       "      <td>NaN</td>\n",
       "      <td>102179</td>\n",
       "      <td>37138</td>\n",
       "      <td>1.0</td>\n",
       "      <td>[Grocery &amp; Gourmet Food, Herbs, Spices &amp; Seaso...</td>\n",
       "      <td>[Adobo seasoning (known as adobo seco) is a ve...</td>\n",
       "      <td>Primal Palate Organic Spices Adobo Seasoning, ...</td>\n",
       "      <td>Primal Palate Organic Spices</td>\n",
       "      <td>19,771inGroceryGourmetFood(</td>\n",
       "      <td>[B00AJRKRJS, B01NALHAY9, B01DGZ2B48, B01EZ489A...</td>\n",
       "      <td>Grocery</td>\n",
       "      <td>$9.95</td>\n",
       "      <td>[B01DGZ2B48, B01EZ489AO, B01DH795LM, B01EYW2LC...</td>\n",
       "      <td>[https://images-na.ssl-images-amazon.com/image...</td>\n",
       "      <td>NaN</td>\n",
       "      <td>NaN</td>\n",
       "      <td>\\n      &lt;div class=\"content\"&gt;\\n\\n\\n\\n\\n\\n\\n&lt;ul...</td>\n",
       "      <td>NaN</td>\n",
       "      <td>NaN</td>\n",
       "      <td>NaN</td>\n",
       "    </tr>\n",
       "    <tr>\n",
       "      <th>1</th>\n",
       "      <td>5.0</td>\n",
       "      <td>False</td>\n",
       "      <td>03 31, 2017</td>\n",
       "      <td>B01CPNIEQG</td>\n",
       "      <td>Tina McClain</td>\n",
       "      <td>Love this seasoning on chicken! The flavor is ...</td>\n",
       "      <td>Love all their seasoning!!</td>\n",
       "      <td>1490918400</td>\n",
       "      <td>NaN</td>\n",
       "      <td>NaN</td>\n",
       "      <td>NaN</td>\n",
       "      <td>117314</td>\n",
       "      <td>37138</td>\n",
       "      <td>1.0</td>\n",
       "      <td>[Grocery &amp; Gourmet Food, Herbs, Spices &amp; Seaso...</td>\n",
       "      <td>[Adobo seasoning (known as adobo seco) is a ve...</td>\n",
       "      <td>Primal Palate Organic Spices Adobo Seasoning, ...</td>\n",
       "      <td>Primal Palate Organic Spices</td>\n",
       "      <td>19,771inGroceryGourmetFood(</td>\n",
       "      <td>[B00AJRKRJS, B01NALHAY9, B01DGZ2B48, B01EZ489A...</td>\n",
       "      <td>Grocery</td>\n",
       "      <td>$9.95</td>\n",
       "      <td>[B01DGZ2B48, B01EZ489AO, B01DH795LM, B01EYW2LC...</td>\n",
       "      <td>[https://images-na.ssl-images-amazon.com/image...</td>\n",
       "      <td>NaN</td>\n",
       "      <td>NaN</td>\n",
       "      <td>\\n      &lt;div class=\"content\"&gt;\\n\\n\\n\\n\\n\\n\\n&lt;ul...</td>\n",
       "      <td>NaN</td>\n",
       "      <td>NaN</td>\n",
       "      <td>NaN</td>\n",
       "    </tr>\n",
       "    <tr>\n",
       "      <th>2</th>\n",
       "      <td>3.0</td>\n",
       "      <td>True</td>\n",
       "      <td>03 11, 2017</td>\n",
       "      <td>B01CPNIEQG</td>\n",
       "      <td>Ella</td>\n",
       "      <td>Ummm....interesting spice blend, but not reall...</td>\n",
       "      <td>It's not a bad taste, but they really shouldn'...</td>\n",
       "      <td>1489190400</td>\n",
       "      <td>4.0</td>\n",
       "      <td>NaN</td>\n",
       "      <td>NaN</td>\n",
       "      <td>119505</td>\n",
       "      <td>37138</td>\n",
       "      <td>0.0</td>\n",
       "      <td>[Grocery &amp; Gourmet Food, Herbs, Spices &amp; Seaso...</td>\n",
       "      <td>[Adobo seasoning (known as adobo seco) is a ve...</td>\n",
       "      <td>Primal Palate Organic Spices Adobo Seasoning, ...</td>\n",
       "      <td>Primal Palate Organic Spices</td>\n",
       "      <td>19,771inGroceryGourmetFood(</td>\n",
       "      <td>[B00AJRKRJS, B01NALHAY9, B01DGZ2B48, B01EZ489A...</td>\n",
       "      <td>Grocery</td>\n",
       "      <td>$9.95</td>\n",
       "      <td>[B01DGZ2B48, B01EZ489AO, B01DH795LM, B01EYW2LC...</td>\n",
       "      <td>[https://images-na.ssl-images-amazon.com/image...</td>\n",
       "      <td>NaN</td>\n",
       "      <td>NaN</td>\n",
       "      <td>\\n      &lt;div class=\"content\"&gt;\\n\\n\\n\\n\\n\\n\\n&lt;ul...</td>\n",
       "      <td>NaN</td>\n",
       "      <td>NaN</td>\n",
       "      <td>NaN</td>\n",
       "    </tr>\n",
       "    <tr>\n",
       "      <th>3</th>\n",
       "      <td>5.0</td>\n",
       "      <td>False</td>\n",
       "      <td>05 18, 2016</td>\n",
       "      <td>B01CPNIEQG</td>\n",
       "      <td>A. Yeager</td>\n",
       "      <td>I have loved adobo seasoning for years. Once I...</td>\n",
       "      <td>I have loved adobo seasoning for years</td>\n",
       "      <td>1463529600</td>\n",
       "      <td>NaN</td>\n",
       "      <td>NaN</td>\n",
       "      <td>NaN</td>\n",
       "      <td>124302</td>\n",
       "      <td>37138</td>\n",
       "      <td>1.0</td>\n",
       "      <td>[Grocery &amp; Gourmet Food, Herbs, Spices &amp; Seaso...</td>\n",
       "      <td>[Adobo seasoning (known as adobo seco) is a ve...</td>\n",
       "      <td>Primal Palate Organic Spices Adobo Seasoning, ...</td>\n",
       "      <td>Primal Palate Organic Spices</td>\n",
       "      <td>19,771inGroceryGourmetFood(</td>\n",
       "      <td>[B00AJRKRJS, B01NALHAY9, B01DGZ2B48, B01EZ489A...</td>\n",
       "      <td>Grocery</td>\n",
       "      <td>$9.95</td>\n",
       "      <td>[B01DGZ2B48, B01EZ489AO, B01DH795LM, B01EYW2LC...</td>\n",
       "      <td>[https://images-na.ssl-images-amazon.com/image...</td>\n",
       "      <td>NaN</td>\n",
       "      <td>NaN</td>\n",
       "      <td>\\n      &lt;div class=\"content\"&gt;\\n\\n\\n\\n\\n\\n\\n&lt;ul...</td>\n",
       "      <td>NaN</td>\n",
       "      <td>NaN</td>\n",
       "      <td>NaN</td>\n",
       "    </tr>\n",
       "    <tr>\n",
       "      <th>4</th>\n",
       "      <td>5.0</td>\n",
       "      <td>False</td>\n",
       "      <td>05 18, 2016</td>\n",
       "      <td>B01CPNIEQG</td>\n",
       "      <td>LuvstoShop</td>\n",
       "      <td>I love this blend. It makes my hashbrowns! So ...</td>\n",
       "      <td>Five Stars</td>\n",
       "      <td>1463529600</td>\n",
       "      <td>NaN</td>\n",
       "      <td>NaN</td>\n",
       "      <td>NaN</td>\n",
       "      <td>121986</td>\n",
       "      <td>37138</td>\n",
       "      <td>1.0</td>\n",
       "      <td>[Grocery &amp; Gourmet Food, Herbs, Spices &amp; Seaso...</td>\n",
       "      <td>[Adobo seasoning (known as adobo seco) is a ve...</td>\n",
       "      <td>Primal Palate Organic Spices Adobo Seasoning, ...</td>\n",
       "      <td>Primal Palate Organic Spices</td>\n",
       "      <td>19,771inGroceryGourmetFood(</td>\n",
       "      <td>[B00AJRKRJS, B01NALHAY9, B01DGZ2B48, B01EZ489A...</td>\n",
       "      <td>Grocery</td>\n",
       "      <td>$9.95</td>\n",
       "      <td>[B01DGZ2B48, B01EZ489AO, B01DH795LM, B01EYW2LC...</td>\n",
       "      <td>[https://images-na.ssl-images-amazon.com/image...</td>\n",
       "      <td>NaN</td>\n",
       "      <td>NaN</td>\n",
       "      <td>\\n      &lt;div class=\"content\"&gt;\\n\\n\\n\\n\\n\\n\\n&lt;ul...</td>\n",
       "      <td>NaN</td>\n",
       "      <td>NaN</td>\n",
       "      <td>NaN</td>\n",
       "    </tr>\n",
       "    <tr>\n",
       "      <th>5</th>\n",
       "      <td>5.0</td>\n",
       "      <td>False</td>\n",
       "      <td>03 9, 2017</td>\n",
       "      <td>B01CPNIEQG</td>\n",
       "      <td>Critterherder</td>\n",
       "      <td>This is one of my favorites.  It is awesome on...</td>\n",
       "      <td>I love all of Primal Palate's spices!</td>\n",
       "      <td>1489017600</td>\n",
       "      <td>NaN</td>\n",
       "      <td>NaN</td>\n",
       "      <td>NaN</td>\n",
       "      <td>74425</td>\n",
       "      <td>37138</td>\n",
       "      <td>1.0</td>\n",
       "      <td>[Grocery &amp; Gourmet Food, Herbs, Spices &amp; Seaso...</td>\n",
       "      <td>[Adobo seasoning (known as adobo seco) is a ve...</td>\n",
       "      <td>Primal Palate Organic Spices Adobo Seasoning, ...</td>\n",
       "      <td>Primal Palate Organic Spices</td>\n",
       "      <td>19,771inGroceryGourmetFood(</td>\n",
       "      <td>[B00AJRKRJS, B01NALHAY9, B01DGZ2B48, B01EZ489A...</td>\n",
       "      <td>Grocery</td>\n",
       "      <td>$9.95</td>\n",
       "      <td>[B01DGZ2B48, B01EZ489AO, B01DH795LM, B01EYW2LC...</td>\n",
       "      <td>[https://images-na.ssl-images-amazon.com/image...</td>\n",
       "      <td>NaN</td>\n",
       "      <td>NaN</td>\n",
       "      <td>\\n      &lt;div class=\"content\"&gt;\\n\\n\\n\\n\\n\\n\\n&lt;ul...</td>\n",
       "      <td>NaN</td>\n",
       "      <td>NaN</td>\n",
       "      <td>NaN</td>\n",
       "    </tr>\n",
       "    <tr>\n",
       "      <th>6</th>\n",
       "      <td>5.0</td>\n",
       "      <td>False</td>\n",
       "      <td>04 7, 2016</td>\n",
       "      <td>B01CPNIEQG</td>\n",
       "      <td>Allison K</td>\n",
       "      <td>I've been using this adobo seasoning on nearly...</td>\n",
       "      <td>Great seasoning blend!</td>\n",
       "      <td>1459987200</td>\n",
       "      <td>5.0</td>\n",
       "      <td>NaN</td>\n",
       "      <td>NaN</td>\n",
       "      <td>127313</td>\n",
       "      <td>37138</td>\n",
       "      <td>1.0</td>\n",
       "      <td>[Grocery &amp; Gourmet Food, Herbs, Spices &amp; Seaso...</td>\n",
       "      <td>[Adobo seasoning (known as adobo seco) is a ve...</td>\n",
       "      <td>Primal Palate Organic Spices Adobo Seasoning, ...</td>\n",
       "      <td>Primal Palate Organic Spices</td>\n",
       "      <td>19,771inGroceryGourmetFood(</td>\n",
       "      <td>[B00AJRKRJS, B01NALHAY9, B01DGZ2B48, B01EZ489A...</td>\n",
       "      <td>Grocery</td>\n",
       "      <td>$9.95</td>\n",
       "      <td>[B01DGZ2B48, B01EZ489AO, B01DH795LM, B01EYW2LC...</td>\n",
       "      <td>[https://images-na.ssl-images-amazon.com/image...</td>\n",
       "      <td>NaN</td>\n",
       "      <td>NaN</td>\n",
       "      <td>\\n      &lt;div class=\"content\"&gt;\\n\\n\\n\\n\\n\\n\\n&lt;ul...</td>\n",
       "      <td>NaN</td>\n",
       "      <td>NaN</td>\n",
       "      <td>NaN</td>\n",
       "    </tr>\n",
       "    <tr>\n",
       "      <th>7</th>\n",
       "      <td>5.0</td>\n",
       "      <td>True</td>\n",
       "      <td>01 28, 2018</td>\n",
       "      <td>B01CPNIEQG</td>\n",
       "      <td>Georgette E Mobley</td>\n",
       "      <td>This is the second time buying this product . ...</td>\n",
       "      <td>Love the blend</td>\n",
       "      <td>1517097600</td>\n",
       "      <td>NaN</td>\n",
       "      <td>NaN</td>\n",
       "      <td>NaN</td>\n",
       "      <td>11445</td>\n",
       "      <td>37138</td>\n",
       "      <td>1.0</td>\n",
       "      <td>[Grocery &amp; Gourmet Food, Herbs, Spices &amp; Seaso...</td>\n",
       "      <td>[Adobo seasoning (known as adobo seco) is a ve...</td>\n",
       "      <td>Primal Palate Organic Spices Adobo Seasoning, ...</td>\n",
       "      <td>Primal Palate Organic Spices</td>\n",
       "      <td>19,771inGroceryGourmetFood(</td>\n",
       "      <td>[B00AJRKRJS, B01NALHAY9, B01DGZ2B48, B01EZ489A...</td>\n",
       "      <td>Grocery</td>\n",
       "      <td>$9.95</td>\n",
       "      <td>[B01DGZ2B48, B01EZ489AO, B01DH795LM, B01EYW2LC...</td>\n",
       "      <td>[https://images-na.ssl-images-amazon.com/image...</td>\n",
       "      <td>NaN</td>\n",
       "      <td>NaN</td>\n",
       "      <td>\\n      &lt;div class=\"content\"&gt;\\n\\n\\n\\n\\n\\n\\n&lt;ul...</td>\n",
       "      <td>NaN</td>\n",
       "      <td>NaN</td>\n",
       "      <td>NaN</td>\n",
       "    </tr>\n",
       "    <tr>\n",
       "      <th>8</th>\n",
       "      <td>5.0</td>\n",
       "      <td>True</td>\n",
       "      <td>03 1, 2016</td>\n",
       "      <td>B006F63M8U</td>\n",
       "      <td>Linda Odom</td>\n",
       "      <td>Add A package to my Coffee and it makes a good...</td>\n",
       "      <td>Milk Chocolate Swiis MIss Hot Cocoa Mix</td>\n",
       "      <td>1456790400</td>\n",
       "      <td>NaN</td>\n",
       "      <td>{'Size:': ' 60-0.73 oz Envelopes'}</td>\n",
       "      <td>NaN</td>\n",
       "      <td>3625</td>\n",
       "      <td>17322</td>\n",
       "      <td>1.0</td>\n",
       "      <td>[Grocery &amp; Gourmet Food, Beverages, Coffee, Te...</td>\n",
       "      <td>[Milk Chocolate Swiss Miss Hot Cocoa Mix 60-0....</td>\n",
       "      <td>Milk Chocolate Swiss Miss Hot Cocoa Mix 60-0.7...</td>\n",
       "      <td>Swiss Miss</td>\n",
       "      <td>5,591inGroceryGourmetFood(</td>\n",
       "      <td>NaN</td>\n",
       "      <td>Grocery</td>\n",
       "      <td>$18.49</td>\n",
       "      <td>[B001FBKO4U, B00BJ9URYA, B00451ZJB0, B0017TMTF...</td>\n",
       "      <td>[https://images-na.ssl-images-amazon.com/image...</td>\n",
       "      <td>NaN</td>\n",
       "      <td>NaN</td>\n",
       "      <td>\\n\\n\\n\\n\\n\\n    &lt;div class=\"disclaim\"&gt;Size: &lt;s...</td>\n",
       "      <td>NaN</td>\n",
       "      <td>NaN</td>\n",
       "      <td>NaN</td>\n",
       "    </tr>\n",
       "    <tr>\n",
       "      <th>9</th>\n",
       "      <td>5.0</td>\n",
       "      <td>True</td>\n",
       "      <td>12 22, 2016</td>\n",
       "      <td>B006F63M8U</td>\n",
       "      <td>Bartholomew Genovese</td>\n",
       "      <td>Great thank you</td>\n",
       "      <td>Great thank you</td>\n",
       "      <td>1482364800</td>\n",
       "      <td>NaN</td>\n",
       "      <td>{'Size:': ' 60-0.73 oz Envelopes'}</td>\n",
       "      <td>NaN</td>\n",
       "      <td>23634</td>\n",
       "      <td>17322</td>\n",
       "      <td>1.0</td>\n",
       "      <td>[Grocery &amp; Gourmet Food, Beverages, Coffee, Te...</td>\n",
       "      <td>[Milk Chocolate Swiss Miss Hot Cocoa Mix 60-0....</td>\n",
       "      <td>Milk Chocolate Swiss Miss Hot Cocoa Mix 60-0.7...</td>\n",
       "      <td>Swiss Miss</td>\n",
       "      <td>5,591inGroceryGourmetFood(</td>\n",
       "      <td>NaN</td>\n",
       "      <td>Grocery</td>\n",
       "      <td>$18.49</td>\n",
       "      <td>[B001FBKO4U, B00BJ9URYA, B00451ZJB0, B0017TMTF...</td>\n",
       "      <td>[https://images-na.ssl-images-amazon.com/image...</td>\n",
       "      <td>NaN</td>\n",
       "      <td>NaN</td>\n",
       "      <td>\\n\\n\\n\\n\\n\\n    &lt;div class=\"disclaim\"&gt;Size: &lt;s...</td>\n",
       "      <td>NaN</td>\n",
       "      <td>NaN</td>\n",
       "      <td>NaN</td>\n",
       "    </tr>\n",
       "    <tr>\n",
       "      <th>10</th>\n",
       "      <td>5.0</td>\n",
       "      <td>True</td>\n",
       "      <td>03 1, 2015</td>\n",
       "      <td>B006F63M8U</td>\n",
       "      <td>East Coast Dirk</td>\n",
       "      <td>Daughter loves the Swiss Miss! - Very Smooth T...</td>\n",
       "      <td>- Great Seller! - Thanks</td>\n",
       "      <td>1425168000</td>\n",
       "      <td>NaN</td>\n",
       "      <td>{'Size:': ' 60-0.73 oz Envelopes'}</td>\n",
       "      <td>NaN</td>\n",
       "      <td>38467</td>\n",
       "      <td>17322</td>\n",
       "      <td>1.0</td>\n",
       "      <td>[Grocery &amp; Gourmet Food, Beverages, Coffee, Te...</td>\n",
       "      <td>[Milk Chocolate Swiss Miss Hot Cocoa Mix 60-0....</td>\n",
       "      <td>Milk Chocolate Swiss Miss Hot Cocoa Mix 60-0.7...</td>\n",
       "      <td>Swiss Miss</td>\n",
       "      <td>5,591inGroceryGourmetFood(</td>\n",
       "      <td>NaN</td>\n",
       "      <td>Grocery</td>\n",
       "      <td>$18.49</td>\n",
       "      <td>[B001FBKO4U, B00BJ9URYA, B00451ZJB0, B0017TMTF...</td>\n",
       "      <td>[https://images-na.ssl-images-amazon.com/image...</td>\n",
       "      <td>NaN</td>\n",
       "      <td>NaN</td>\n",
       "      <td>\\n\\n\\n\\n\\n\\n    &lt;div class=\"disclaim\"&gt;Size: &lt;s...</td>\n",
       "      <td>NaN</td>\n",
       "      <td>NaN</td>\n",
       "      <td>NaN</td>\n",
       "    </tr>\n",
       "    <tr>\n",
       "      <th>11</th>\n",
       "      <td>5.0</td>\n",
       "      <td>True</td>\n",
       "      <td>07 15, 2015</td>\n",
       "      <td>B006F63M8U</td>\n",
       "      <td>A. Williams</td>\n",
       "      <td>My favorite! Better than nestle I think! I kee...</td>\n",
       "      <td>! Yummy!</td>\n",
       "      <td>1436918400</td>\n",
       "      <td>NaN</td>\n",
       "      <td>{'Size:': ' 60-0.73 oz Envelopes'}</td>\n",
       "      <td>NaN</td>\n",
       "      <td>108427</td>\n",
       "      <td>17322</td>\n",
       "      <td>1.0</td>\n",
       "      <td>[Grocery &amp; Gourmet Food, Beverages, Coffee, Te...</td>\n",
       "      <td>[Milk Chocolate Swiss Miss Hot Cocoa Mix 60-0....</td>\n",
       "      <td>Milk Chocolate Swiss Miss Hot Cocoa Mix 60-0.7...</td>\n",
       "      <td>Swiss Miss</td>\n",
       "      <td>5,591inGroceryGourmetFood(</td>\n",
       "      <td>NaN</td>\n",
       "      <td>Grocery</td>\n",
       "      <td>$18.49</td>\n",
       "      <td>[B001FBKO4U, B00BJ9URYA, B00451ZJB0, B0017TMTF...</td>\n",
       "      <td>[https://images-na.ssl-images-amazon.com/image...</td>\n",
       "      <td>NaN</td>\n",
       "      <td>NaN</td>\n",
       "      <td>\\n\\n\\n\\n\\n\\n    &lt;div class=\"disclaim\"&gt;Size: &lt;s...</td>\n",
       "      <td>NaN</td>\n",
       "      <td>NaN</td>\n",
       "      <td>NaN</td>\n",
       "    </tr>\n",
       "    <tr>\n",
       "      <th>12</th>\n",
       "      <td>5.0</td>\n",
       "      <td>False</td>\n",
       "      <td>01 13, 2016</td>\n",
       "      <td>B006F63M8U</td>\n",
       "      <td>Judy</td>\n",
       "      <td>I use it with my Keurig and add a coffee K cup...</td>\n",
       "      <td>YUM!!</td>\n",
       "      <td>1452643200</td>\n",
       "      <td>NaN</td>\n",
       "      <td>{'Size:': ' 60-0.73 oz Envelopes'}</td>\n",
       "      <td>NaN</td>\n",
       "      <td>107043</td>\n",
       "      <td>17322</td>\n",
       "      <td>1.0</td>\n",
       "      <td>[Grocery &amp; Gourmet Food, Beverages, Coffee, Te...</td>\n",
       "      <td>[Milk Chocolate Swiss Miss Hot Cocoa Mix 60-0....</td>\n",
       "      <td>Milk Chocolate Swiss Miss Hot Cocoa Mix 60-0.7...</td>\n",
       "      <td>Swiss Miss</td>\n",
       "      <td>5,591inGroceryGourmetFood(</td>\n",
       "      <td>NaN</td>\n",
       "      <td>Grocery</td>\n",
       "      <td>$18.49</td>\n",
       "      <td>[B001FBKO4U, B00BJ9URYA, B00451ZJB0, B0017TMTF...</td>\n",
       "      <td>[https://images-na.ssl-images-amazon.com/image...</td>\n",
       "      <td>NaN</td>\n",
       "      <td>NaN</td>\n",
       "      <td>\\n\\n\\n\\n\\n\\n    &lt;div class=\"disclaim\"&gt;Size: &lt;s...</td>\n",
       "      <td>NaN</td>\n",
       "      <td>NaN</td>\n",
       "      <td>NaN</td>\n",
       "    </tr>\n",
       "    <tr>\n",
       "      <th>13</th>\n",
       "      <td>5.0</td>\n",
       "      <td>True</td>\n",
       "      <td>08 20, 2014</td>\n",
       "      <td>B006F63M8U</td>\n",
       "      <td>Karen M.</td>\n",
       "      <td>My husband is a hot chocolate lover (he doesn'...</td>\n",
       "      <td>He seems to like Swiss Miss the best</td>\n",
       "      <td>1408492800</td>\n",
       "      <td>NaN</td>\n",
       "      <td>{'Size:': ' 60-0.73 oz Envelopes'}</td>\n",
       "      <td>NaN</td>\n",
       "      <td>39522</td>\n",
       "      <td>17322</td>\n",
       "      <td>1.0</td>\n",
       "      <td>[Grocery &amp; Gourmet Food, Beverages, Coffee, Te...</td>\n",
       "      <td>[Milk Chocolate Swiss Miss Hot Cocoa Mix 60-0....</td>\n",
       "      <td>Milk Chocolate Swiss Miss Hot Cocoa Mix 60-0.7...</td>\n",
       "      <td>Swiss Miss</td>\n",
       "      <td>5,591inGroceryGourmetFood(</td>\n",
       "      <td>NaN</td>\n",
       "      <td>Grocery</td>\n",
       "      <td>$18.49</td>\n",
       "      <td>[B001FBKO4U, B00BJ9URYA, B00451ZJB0, B0017TMTF...</td>\n",
       "      <td>[https://images-na.ssl-images-amazon.com/image...</td>\n",
       "      <td>NaN</td>\n",
       "      <td>NaN</td>\n",
       "      <td>\\n\\n\\n\\n\\n\\n    &lt;div class=\"disclaim\"&gt;Size: &lt;s...</td>\n",
       "      <td>NaN</td>\n",
       "      <td>NaN</td>\n",
       "      <td>NaN</td>\n",
       "    </tr>\n",
       "    <tr>\n",
       "      <th>14</th>\n",
       "      <td>5.0</td>\n",
       "      <td>True</td>\n",
       "      <td>03 23, 2018</td>\n",
       "      <td>B006F63M8U</td>\n",
       "      <td>christy</td>\n",
       "      <td>drink this all day during the winter at work. ...</td>\n",
       "      <td>great flavor</td>\n",
       "      <td>1521763200</td>\n",
       "      <td>NaN</td>\n",
       "      <td>{'Size:': ' 60-0.73 oz Envelopes'}</td>\n",
       "      <td>NaN</td>\n",
       "      <td>49303</td>\n",
       "      <td>17322</td>\n",
       "      <td>1.0</td>\n",
       "      <td>[Grocery &amp; Gourmet Food, Beverages, Coffee, Te...</td>\n",
       "      <td>[Milk Chocolate Swiss Miss Hot Cocoa Mix 60-0....</td>\n",
       "      <td>Milk Chocolate Swiss Miss Hot Cocoa Mix 60-0.7...</td>\n",
       "      <td>Swiss Miss</td>\n",
       "      <td>5,591inGroceryGourmetFood(</td>\n",
       "      <td>NaN</td>\n",
       "      <td>Grocery</td>\n",
       "      <td>$18.49</td>\n",
       "      <td>[B001FBKO4U, B00BJ9URYA, B00451ZJB0, B0017TMTF...</td>\n",
       "      <td>[https://images-na.ssl-images-amazon.com/image...</td>\n",
       "      <td>NaN</td>\n",
       "      <td>NaN</td>\n",
       "      <td>\\n\\n\\n\\n\\n\\n    &lt;div class=\"disclaim\"&gt;Size: &lt;s...</td>\n",
       "      <td>NaN</td>\n",
       "      <td>NaN</td>\n",
       "      <td>NaN</td>\n",
       "    </tr>\n",
       "  </tbody>\n",
       "</table>\n",
       "</div>"
      ],
      "text/plain": [
       "    overall  verified   reviewTime        asin          reviewerName  \\\n",
       "0       5.0      True   10 4, 2016  B01CPNIEQG               Heather   \n",
       "1       5.0     False  03 31, 2017  B01CPNIEQG          Tina McClain   \n",
       "2       3.0      True  03 11, 2017  B01CPNIEQG                  Ella   \n",
       "3       5.0     False  05 18, 2016  B01CPNIEQG             A. Yeager   \n",
       "4       5.0     False  05 18, 2016  B01CPNIEQG            LuvstoShop   \n",
       "5       5.0     False   03 9, 2017  B01CPNIEQG         Critterherder   \n",
       "6       5.0     False   04 7, 2016  B01CPNIEQG             Allison K   \n",
       "7       5.0      True  01 28, 2018  B01CPNIEQG    Georgette E Mobley   \n",
       "8       5.0      True   03 1, 2016  B006F63M8U            Linda Odom   \n",
       "9       5.0      True  12 22, 2016  B006F63M8U  Bartholomew Genovese   \n",
       "10      5.0      True   03 1, 2015  B006F63M8U       East Coast Dirk   \n",
       "11      5.0      True  07 15, 2015  B006F63M8U           A. Williams   \n",
       "12      5.0     False  01 13, 2016  B006F63M8U                  Judy   \n",
       "13      5.0      True  08 20, 2014  B006F63M8U              Karen M.   \n",
       "14      5.0      True  03 23, 2018  B006F63M8U               christy   \n",
       "\n",
       "                                           reviewText  \\\n",
       "0   These are my FAVORITE spices in my collection....   \n",
       "1   Love this seasoning on chicken! The flavor is ...   \n",
       "2   Ummm....interesting spice blend, but not reall...   \n",
       "3   I have loved adobo seasoning for years. Once I...   \n",
       "4   I love this blend. It makes my hashbrowns! So ...   \n",
       "5   This is one of my favorites.  It is awesome on...   \n",
       "6   I've been using this adobo seasoning on nearly...   \n",
       "7   This is the second time buying this product . ...   \n",
       "8   Add A package to my Coffee and it makes a good...   \n",
       "9                                     Great thank you   \n",
       "10  Daughter loves the Swiss Miss! - Very Smooth T...   \n",
       "11  My favorite! Better than nestle I think! I kee...   \n",
       "12  I use it with my Keurig and add a coffee K cup...   \n",
       "13  My husband is a hot chocolate lover (he doesn'...   \n",
       "14  drink this all day during the winter at work. ...   \n",
       "\n",
       "                                              summary  unixReviewTime vote  \\\n",
       "0                     Must Add to your Spice kitchen!      1475539200  NaN   \n",
       "1                          Love all their seasoning!!      1490918400  NaN   \n",
       "2   It's not a bad taste, but they really shouldn'...      1489190400  4.0   \n",
       "3              I have loved adobo seasoning for years      1463529600  NaN   \n",
       "4                                          Five Stars      1463529600  NaN   \n",
       "5               I love all of Primal Palate's spices!      1489017600  NaN   \n",
       "6                              Great seasoning blend!      1459987200  5.0   \n",
       "7                                      Love the blend      1517097600  NaN   \n",
       "8             Milk Chocolate Swiis MIss Hot Cocoa Mix      1456790400  NaN   \n",
       "9                                     Great thank you      1482364800  NaN   \n",
       "10                           - Great Seller! - Thanks      1425168000  NaN   \n",
       "11                                           ! Yummy!      1436918400  NaN   \n",
       "12                                              YUM!!      1452643200  NaN   \n",
       "13               He seems to like Swiss Miss the best      1408492800  NaN   \n",
       "14                                       great flavor      1521763200  NaN   \n",
       "\n",
       "                                 style image_x  userid  itemid  rating  \\\n",
       "0                                  NaN     NaN  102179   37138     1.0   \n",
       "1                                  NaN     NaN  117314   37138     1.0   \n",
       "2                                  NaN     NaN  119505   37138     0.0   \n",
       "3                                  NaN     NaN  124302   37138     1.0   \n",
       "4                                  NaN     NaN  121986   37138     1.0   \n",
       "5                                  NaN     NaN   74425   37138     1.0   \n",
       "6                                  NaN     NaN  127313   37138     1.0   \n",
       "7                                  NaN     NaN   11445   37138     1.0   \n",
       "8   {'Size:': ' 60-0.73 oz Envelopes'}     NaN    3625   17322     1.0   \n",
       "9   {'Size:': ' 60-0.73 oz Envelopes'}     NaN   23634   17322     1.0   \n",
       "10  {'Size:': ' 60-0.73 oz Envelopes'}     NaN   38467   17322     1.0   \n",
       "11  {'Size:': ' 60-0.73 oz Envelopes'}     NaN  108427   17322     1.0   \n",
       "12  {'Size:': ' 60-0.73 oz Envelopes'}     NaN  107043   17322     1.0   \n",
       "13  {'Size:': ' 60-0.73 oz Envelopes'}     NaN   39522   17322     1.0   \n",
       "14  {'Size:': ' 60-0.73 oz Envelopes'}     NaN   49303   17322     1.0   \n",
       "\n",
       "                                             category  \\\n",
       "0   [Grocery & Gourmet Food, Herbs, Spices & Seaso...   \n",
       "1   [Grocery & Gourmet Food, Herbs, Spices & Seaso...   \n",
       "2   [Grocery & Gourmet Food, Herbs, Spices & Seaso...   \n",
       "3   [Grocery & Gourmet Food, Herbs, Spices & Seaso...   \n",
       "4   [Grocery & Gourmet Food, Herbs, Spices & Seaso...   \n",
       "5   [Grocery & Gourmet Food, Herbs, Spices & Seaso...   \n",
       "6   [Grocery & Gourmet Food, Herbs, Spices & Seaso...   \n",
       "7   [Grocery & Gourmet Food, Herbs, Spices & Seaso...   \n",
       "8   [Grocery & Gourmet Food, Beverages, Coffee, Te...   \n",
       "9   [Grocery & Gourmet Food, Beverages, Coffee, Te...   \n",
       "10  [Grocery & Gourmet Food, Beverages, Coffee, Te...   \n",
       "11  [Grocery & Gourmet Food, Beverages, Coffee, Te...   \n",
       "12  [Grocery & Gourmet Food, Beverages, Coffee, Te...   \n",
       "13  [Grocery & Gourmet Food, Beverages, Coffee, Te...   \n",
       "14  [Grocery & Gourmet Food, Beverages, Coffee, Te...   \n",
       "\n",
       "                                          description  \\\n",
       "0   [Adobo seasoning (known as adobo seco) is a ve...   \n",
       "1   [Adobo seasoning (known as adobo seco) is a ve...   \n",
       "2   [Adobo seasoning (known as adobo seco) is a ve...   \n",
       "3   [Adobo seasoning (known as adobo seco) is a ve...   \n",
       "4   [Adobo seasoning (known as adobo seco) is a ve...   \n",
       "5   [Adobo seasoning (known as adobo seco) is a ve...   \n",
       "6   [Adobo seasoning (known as adobo seco) is a ve...   \n",
       "7   [Adobo seasoning (known as adobo seco) is a ve...   \n",
       "8   [Milk Chocolate Swiss Miss Hot Cocoa Mix 60-0....   \n",
       "9   [Milk Chocolate Swiss Miss Hot Cocoa Mix 60-0....   \n",
       "10  [Milk Chocolate Swiss Miss Hot Cocoa Mix 60-0....   \n",
       "11  [Milk Chocolate Swiss Miss Hot Cocoa Mix 60-0....   \n",
       "12  [Milk Chocolate Swiss Miss Hot Cocoa Mix 60-0....   \n",
       "13  [Milk Chocolate Swiss Miss Hot Cocoa Mix 60-0....   \n",
       "14  [Milk Chocolate Swiss Miss Hot Cocoa Mix 60-0....   \n",
       "\n",
       "                                                title  \\\n",
       "0   Primal Palate Organic Spices Adobo Seasoning, ...   \n",
       "1   Primal Palate Organic Spices Adobo Seasoning, ...   \n",
       "2   Primal Palate Organic Spices Adobo Seasoning, ...   \n",
       "3   Primal Palate Organic Spices Adobo Seasoning, ...   \n",
       "4   Primal Palate Organic Spices Adobo Seasoning, ...   \n",
       "5   Primal Palate Organic Spices Adobo Seasoning, ...   \n",
       "6   Primal Palate Organic Spices Adobo Seasoning, ...   \n",
       "7   Primal Palate Organic Spices Adobo Seasoning, ...   \n",
       "8   Milk Chocolate Swiss Miss Hot Cocoa Mix 60-0.7...   \n",
       "9   Milk Chocolate Swiss Miss Hot Cocoa Mix 60-0.7...   \n",
       "10  Milk Chocolate Swiss Miss Hot Cocoa Mix 60-0.7...   \n",
       "11  Milk Chocolate Swiss Miss Hot Cocoa Mix 60-0.7...   \n",
       "12  Milk Chocolate Swiss Miss Hot Cocoa Mix 60-0.7...   \n",
       "13  Milk Chocolate Swiss Miss Hot Cocoa Mix 60-0.7...   \n",
       "14  Milk Chocolate Swiss Miss Hot Cocoa Mix 60-0.7...   \n",
       "\n",
       "                           brand                         rank  \\\n",
       "0   Primal Palate Organic Spices  19,771inGroceryGourmetFood(   \n",
       "1   Primal Palate Organic Spices  19,771inGroceryGourmetFood(   \n",
       "2   Primal Palate Organic Spices  19,771inGroceryGourmetFood(   \n",
       "3   Primal Palate Organic Spices  19,771inGroceryGourmetFood(   \n",
       "4   Primal Palate Organic Spices  19,771inGroceryGourmetFood(   \n",
       "5   Primal Palate Organic Spices  19,771inGroceryGourmetFood(   \n",
       "6   Primal Palate Organic Spices  19,771inGroceryGourmetFood(   \n",
       "7   Primal Palate Organic Spices  19,771inGroceryGourmetFood(   \n",
       "8                     Swiss Miss   5,591inGroceryGourmetFood(   \n",
       "9                     Swiss Miss   5,591inGroceryGourmetFood(   \n",
       "10                    Swiss Miss   5,591inGroceryGourmetFood(   \n",
       "11                    Swiss Miss   5,591inGroceryGourmetFood(   \n",
       "12                    Swiss Miss   5,591inGroceryGourmetFood(   \n",
       "13                    Swiss Miss   5,591inGroceryGourmetFood(   \n",
       "14                    Swiss Miss   5,591inGroceryGourmetFood(   \n",
       "\n",
       "                                            also_view main_cat   price  \\\n",
       "0   [B00AJRKRJS, B01NALHAY9, B01DGZ2B48, B01EZ489A...  Grocery   $9.95   \n",
       "1   [B00AJRKRJS, B01NALHAY9, B01DGZ2B48, B01EZ489A...  Grocery   $9.95   \n",
       "2   [B00AJRKRJS, B01NALHAY9, B01DGZ2B48, B01EZ489A...  Grocery   $9.95   \n",
       "3   [B00AJRKRJS, B01NALHAY9, B01DGZ2B48, B01EZ489A...  Grocery   $9.95   \n",
       "4   [B00AJRKRJS, B01NALHAY9, B01DGZ2B48, B01EZ489A...  Grocery   $9.95   \n",
       "5   [B00AJRKRJS, B01NALHAY9, B01DGZ2B48, B01EZ489A...  Grocery   $9.95   \n",
       "6   [B00AJRKRJS, B01NALHAY9, B01DGZ2B48, B01EZ489A...  Grocery   $9.95   \n",
       "7   [B00AJRKRJS, B01NALHAY9, B01DGZ2B48, B01EZ489A...  Grocery   $9.95   \n",
       "8                                                 NaN  Grocery  $18.49   \n",
       "9                                                 NaN  Grocery  $18.49   \n",
       "10                                                NaN  Grocery  $18.49   \n",
       "11                                                NaN  Grocery  $18.49   \n",
       "12                                                NaN  Grocery  $18.49   \n",
       "13                                                NaN  Grocery  $18.49   \n",
       "14                                                NaN  Grocery  $18.49   \n",
       "\n",
       "                                             also_buy  \\\n",
       "0   [B01DGZ2B48, B01EZ489AO, B01DH795LM, B01EYW2LC...   \n",
       "1   [B01DGZ2B48, B01EZ489AO, B01DH795LM, B01EYW2LC...   \n",
       "2   [B01DGZ2B48, B01EZ489AO, B01DH795LM, B01EYW2LC...   \n",
       "3   [B01DGZ2B48, B01EZ489AO, B01DH795LM, B01EYW2LC...   \n",
       "4   [B01DGZ2B48, B01EZ489AO, B01DH795LM, B01EYW2LC...   \n",
       "5   [B01DGZ2B48, B01EZ489AO, B01DH795LM, B01EYW2LC...   \n",
       "6   [B01DGZ2B48, B01EZ489AO, B01DH795LM, B01EYW2LC...   \n",
       "7   [B01DGZ2B48, B01EZ489AO, B01DH795LM, B01EYW2LC...   \n",
       "8   [B001FBKO4U, B00BJ9URYA, B00451ZJB0, B0017TMTF...   \n",
       "9   [B001FBKO4U, B00BJ9URYA, B00451ZJB0, B0017TMTF...   \n",
       "10  [B001FBKO4U, B00BJ9URYA, B00451ZJB0, B0017TMTF...   \n",
       "11  [B001FBKO4U, B00BJ9URYA, B00451ZJB0, B0017TMTF...   \n",
       "12  [B001FBKO4U, B00BJ9URYA, B00451ZJB0, B0017TMTF...   \n",
       "13  [B001FBKO4U, B00BJ9URYA, B00451ZJB0, B0017TMTF...   \n",
       "14  [B001FBKO4U, B00BJ9URYA, B00451ZJB0, B0017TMTF...   \n",
       "\n",
       "                                              image_y date feature  \\\n",
       "0   [https://images-na.ssl-images-amazon.com/image...  NaN     NaN   \n",
       "1   [https://images-na.ssl-images-amazon.com/image...  NaN     NaN   \n",
       "2   [https://images-na.ssl-images-amazon.com/image...  NaN     NaN   \n",
       "3   [https://images-na.ssl-images-amazon.com/image...  NaN     NaN   \n",
       "4   [https://images-na.ssl-images-amazon.com/image...  NaN     NaN   \n",
       "5   [https://images-na.ssl-images-amazon.com/image...  NaN     NaN   \n",
       "6   [https://images-na.ssl-images-amazon.com/image...  NaN     NaN   \n",
       "7   [https://images-na.ssl-images-amazon.com/image...  NaN     NaN   \n",
       "8   [https://images-na.ssl-images-amazon.com/image...  NaN     NaN   \n",
       "9   [https://images-na.ssl-images-amazon.com/image...  NaN     NaN   \n",
       "10  [https://images-na.ssl-images-amazon.com/image...  NaN     NaN   \n",
       "11  [https://images-na.ssl-images-amazon.com/image...  NaN     NaN   \n",
       "12  [https://images-na.ssl-images-amazon.com/image...  NaN     NaN   \n",
       "13  [https://images-na.ssl-images-amazon.com/image...  NaN     NaN   \n",
       "14  [https://images-na.ssl-images-amazon.com/image...  NaN     NaN   \n",
       "\n",
       "                                              details similar_item tech1  fit  \n",
       "0   \\n      <div class=\"content\">\\n\\n\\n\\n\\n\\n\\n<ul...          NaN   NaN  NaN  \n",
       "1   \\n      <div class=\"content\">\\n\\n\\n\\n\\n\\n\\n<ul...          NaN   NaN  NaN  \n",
       "2   \\n      <div class=\"content\">\\n\\n\\n\\n\\n\\n\\n<ul...          NaN   NaN  NaN  \n",
       "3   \\n      <div class=\"content\">\\n\\n\\n\\n\\n\\n\\n<ul...          NaN   NaN  NaN  \n",
       "4   \\n      <div class=\"content\">\\n\\n\\n\\n\\n\\n\\n<ul...          NaN   NaN  NaN  \n",
       "5   \\n      <div class=\"content\">\\n\\n\\n\\n\\n\\n\\n<ul...          NaN   NaN  NaN  \n",
       "6   \\n      <div class=\"content\">\\n\\n\\n\\n\\n\\n\\n<ul...          NaN   NaN  NaN  \n",
       "7   \\n      <div class=\"content\">\\n\\n\\n\\n\\n\\n\\n<ul...          NaN   NaN  NaN  \n",
       "8   \\n\\n\\n\\n\\n\\n    <div class=\"disclaim\">Size: <s...          NaN   NaN  NaN  \n",
       "9   \\n\\n\\n\\n\\n\\n    <div class=\"disclaim\">Size: <s...          NaN   NaN  NaN  \n",
       "10  \\n\\n\\n\\n\\n\\n    <div class=\"disclaim\">Size: <s...          NaN   NaN  NaN  \n",
       "11  \\n\\n\\n\\n\\n\\n    <div class=\"disclaim\">Size: <s...          NaN   NaN  NaN  \n",
       "12  \\n\\n\\n\\n\\n\\n    <div class=\"disclaim\">Size: <s...          NaN   NaN  NaN  \n",
       "13  \\n\\n\\n\\n\\n\\n    <div class=\"disclaim\">Size: <s...          NaN   NaN  NaN  \n",
       "14  \\n\\n\\n\\n\\n\\n    <div class=\"disclaim\">Size: <s...          NaN   NaN  NaN  "
      ]
     },
     "execution_count": 16,
     "metadata": {},
     "output_type": "execute_result"
    }
   ],
   "source": [
    "df_train.head(15)"
   ]
  },
  {
   "cell_type": "code",
   "execution_count": 17,
   "metadata": {},
   "outputs": [
    {
     "name": "stdout",
     "output_type": "stream",
     "text": [
      "<class 'pandas.core.frame.DataFrame'>\n",
      "Int64Index: 847593 entries, 0 to 847592\n",
      "Data columns (total 30 columns):\n",
      " #   Column          Non-Null Count   Dtype  \n",
      "---  ------          --------------   -----  \n",
      " 0   overall         847593 non-null  float64\n",
      " 1   verified        847593 non-null  bool   \n",
      " 2   reviewTime      847593 non-null  object \n",
      " 3   asin            847593 non-null  object \n",
      " 4   reviewerName    847425 non-null  object \n",
      " 5   reviewText      847315 non-null  object \n",
      " 6   summary         847426 non-null  object \n",
      " 7   unixReviewTime  847593 non-null  int64  \n",
      " 8   vote            118861 non-null  object \n",
      " 9   style           440351 non-null  object \n",
      " 10  image_x         7138 non-null    object \n",
      " 11  userid          847593 non-null  int64  \n",
      " 12  itemid          847593 non-null  int64  \n",
      " 13  rating          847593 non-null  float64\n",
      " 14  category        847593 non-null  object \n",
      " 15  description     776098 non-null  object \n",
      " 16  title           847593 non-null  object \n",
      " 17  brand           841489 non-null  object \n",
      " 18  rank            812995 non-null  object \n",
      " 19  also_view       463371 non-null  object \n",
      " 20  main_cat        846638 non-null  object \n",
      " 21  price           588972 non-null  object \n",
      " 22  also_buy        726858 non-null  object \n",
      " 23  image_y         755354 non-null  object \n",
      " 24  date            12087 non-null   object \n",
      " 25  feature         142734 non-null  object \n",
      " 26  details         832985 non-null  object \n",
      " 27  similar_item    1138 non-null    object \n",
      " 28  tech1           4372 non-null    object \n",
      " 29  fit             0 non-null       object \n",
      "dtypes: bool(1), float64(2), int64(3), object(24)\n",
      "memory usage: 194.8+ MB\n"
     ]
    }
   ],
   "source": [
    "df_train.info()"
   ]
  },
  {
   "cell_type": "markdown",
   "metadata": {},
   "source": [
    "Судя по датасету мы имеем 1 бинарный признак, 5 числовых, 24 категориальных"
   ]
  },
  {
   "cell_type": "markdown",
   "metadata": {},
   "source": [
    "## overall"
   ]
  },
  {
   "cell_type": "code",
   "execution_count": 18,
   "metadata": {},
   "outputs": [
    {
     "name": "stdout",
     "output_type": "stream",
     "text": [
      "Количество пропусков: 0,\n",
      "\n",
      "count    847593.000000\n",
      "mean          4.441068\n",
      "std           1.065026\n",
      "min           1.000000\n",
      "25%           4.000000\n",
      "50%           5.000000\n",
      "75%           5.000000\n",
      "max           5.000000\n",
      "Name: overall, dtype: float64,\n",
      "\n",
      "Распределение:\n",
      "5.0    607524\n",
      "4.0    111868\n",
      "3.0     59795\n",
      "1.0     37071\n",
      "2.0     31335\n",
      "Name: overall, dtype: int64,\n",
      "\n",
      "AxesSubplot(0.125,0.125;0.775x0.755)\n"
     ]
    },
    {
     "data": {
      "image/png": "[encoded data removed]",
      "text/plain": [
       "<Figure size 432x288 with 1 Axes>"
      ]
     },
     "metadata": {
      "needs_background": "light"
     },
     "output_type": "display_data"
    }
   ],
   "source": [
    "info_col(df_train['overall'], hist=True)"
   ]
  },
  {
   "cell_type": "markdown",
   "metadata": {},
   "source": [
    "Очень большое количество пятёрок. Пропусков нет."
   ]
  },
  {
   "cell_type": "markdown",
   "metadata": {},
   "source": [
    "## verified"
   ]
  },
  {
   "cell_type": "code",
   "execution_count": 19,
   "metadata": {},
   "outputs": [
    {
     "name": "stdout",
     "output_type": "stream",
     "text": [
      "Количество пропусков: 0,\n",
      "\n",
      "count     847593\n",
      "unique         2\n",
      "top         True\n",
      "freq      736369\n",
      "Name: verified, dtype: object,\n",
      "\n",
      "Распределение:\n",
      "True     736369\n",
      "False    111224\n",
      "Name: verified, dtype: int64,\n",
      "\n"
     ]
    }
   ],
   "source": [
    "info_col(df_train['verified'])"
   ]
  },
  {
   "cell_type": "markdown",
   "metadata": {},
   "source": [
    "Количество верифицированных отзывов в 7 раз примерно превышает,неверифицированных.Пропусков нет. Заменим значения на 1 и 0."
   ]
  },
  {
   "cell_type": "code",
   "execution_count": 20,
   "metadata": {},
   "outputs": [],
   "source": [
    "df_train['verified'] = df_train['verified'].apply(lambda x: 1 if x == True else 0)"
   ]
  },
  {
   "cell_type": "markdown",
   "metadata": {},
   "source": [
    "Можно посмотреть как отражается распределение оценок на раздичие верификаций"
   ]
  },
  {
   "cell_type": "code",
   "execution_count": 21,
   "metadata": {},
   "outputs": [
    {
     "name": "stdout",
     "output_type": "stream",
     "text": [
      "1:  4.479455273103566\n",
      "0:  4.186920089189384\n"
     ]
    },
    {
     "data": {
      "text/plain": [
       "<AxesSubplot:>"
      ]
     },
     "execution_count": 21,
     "metadata": {},
     "output_type": "execute_result"
    },
    {
     "data": {
      "image/png": "[encoded data removed]",
      "text/plain": [
       "<Figure size 432x288 with 1 Axes>"
      ]
     },
     "metadata": {
      "needs_background": "light"
     },
     "output_type": "display_data"
    }
   ],
   "source": [
    "print('1: ',df_train[df_train['verified'] == 1].overall.mean())\n",
    "df_train['overall'][df_train['verified'] == 1].hist()\n",
    "print('0: ',df_train[df_train['verified'] == 0].overall.mean())\n",
    "df_train['overall'][df_train['verified'] == 0].hist()"
   ]
  },
  {
   "cell_type": "markdown",
   "metadata": {},
   "source": [
    "Средняя оценка у верифицированных пользователей немного выше, но распределение похожее"
   ]
  },
  {
   "cell_type": "markdown",
   "metadata": {},
   "source": [
    "## reviewTime"
   ]
  },
  {
   "cell_type": "code",
   "execution_count": 22,
   "metadata": {},
   "outputs": [
    {
     "name": "stdout",
     "output_type": "stream",
     "text": [
      "Количество пропусков: 0,\n",
      "\n",
      "count         847593\n",
      "unique          4580\n",
      "top       03 1, 2016\n",
      "freq             941\n",
      "Name: reviewTime, dtype: object,\n",
      "\n",
      "Распределение:\n",
      "03 1, 2016     941\n",
      "07 14, 2016    873\n",
      "06 3, 2015     783\n",
      "01 20, 2016    783\n",
      "02 20, 2016    767\n",
      "              ... \n",
      "09 22, 2007      1\n",
      "04 8, 2006       1\n",
      "10 2, 2006       1\n",
      "06 23, 2007      1\n",
      "05 7, 2006       1\n",
      "Name: reviewTime, Length: 4580, dtype: int64,\n",
      "\n"
     ]
    }
   ],
   "source": [
    "info_col(df_train['reviewTime'])"
   ]
  },
  {
   "cell_type": "markdown",
   "metadata": {},
   "source": [
    "По сути, не нужный столбец, так как есть unixReviewTime. Он более удобен. Можно удалить."
   ]
  },
  {
   "cell_type": "code",
   "execution_count": 23,
   "metadata": {},
   "outputs": [],
   "source": [
    "df_train = df_train.drop(['reviewTime'], axis=1)"
   ]
  },
  {
   "cell_type": "markdown",
   "metadata": {},
   "source": [
    "## reviewerName"
   ]
  },
  {
   "cell_type": "code",
   "execution_count": 24,
   "metadata": {},
   "outputs": [
    {
     "name": "stdout",
     "output_type": "stream",
     "text": [
      "Количество пропусков: 168,\n",
      "\n",
      "count              847425\n",
      "unique             101207\n",
      "top       Amazon Customer\n",
      "freq                31346\n",
      "Name: reviewerName, dtype: object,\n",
      "\n",
      "Распределение:\n",
      "Amazon Customer    31346\n",
      "Kindle Customer     6128\n",
      "Linda                729\n",
      "John                 714\n",
      "David                606\n",
      "                   ...  \n",
      "Him and Her            1\n",
      "SARA A MORRISON        1\n",
      "Dan Mitchell           1\n",
      "Charleston             1\n",
      "Anca M                 1\n",
      "Name: reviewerName, Length: 101207, dtype: int64,\n",
      "\n"
     ]
    }
   ],
   "source": [
    "info_col(df_train['reviewerName'])"
   ]
  },
  {
   "cell_type": "markdown",
   "metadata": {},
   "source": [
    "Лидерство занимают отзывы из Amazon и Kindle. Но, скорее всего, этот столбец будет бесполезен"
   ]
  },
  {
   "cell_type": "code",
   "execution_count": 25,
   "metadata": {},
   "outputs": [],
   "source": [
    "df_train = df_train.drop(['reviewerName'], axis=1)"
   ]
  },
  {
   "cell_type": "markdown",
   "metadata": {},
   "source": [
    "## reviewText"
   ]
  },
  {
   "cell_type": "code",
   "execution_count": 26,
   "metadata": {},
   "outputs": [],
   "source": [
    "df_train = df_train.drop(['reviewText'], axis=1)"
   ]
  },
  {
   "cell_type": "markdown",
   "metadata": {},
   "source": [
    "## summary"
   ]
  },
  {
   "cell_type": "markdown",
   "metadata": {},
   "source": [
    "Так как этого столбца нет в тестовой выборке, можно удалить."
   ]
  },
  {
   "cell_type": "code",
   "execution_count": 27,
   "metadata": {},
   "outputs": [],
   "source": [
    "df_train = df_train.drop(['summary'], axis=1)"
   ]
  },
  {
   "cell_type": "markdown",
   "metadata": {},
   "source": [
    "## asin"
   ]
  },
  {
   "cell_type": "markdown",
   "metadata": {},
   "source": [
    "Не догадываюсь, как его испольховать, поэтому удалим."
   ]
  },
  {
   "cell_type": "code",
   "execution_count": 28,
   "metadata": {},
   "outputs": [],
   "source": [
    "df_train = df_train.drop(['asin'],axis=1)"
   ]
  },
  {
   "cell_type": "markdown",
   "metadata": {},
   "source": [
    "## unixReviewTime"
   ]
  },
  {
   "cell_type": "code",
   "execution_count": 29,
   "metadata": {},
   "outputs": [
    {
     "name": "stdout",
     "output_type": "stream",
     "text": [
      "Количество пропусков: 0,\n",
      "\n",
      "count    8.475930e+05\n",
      "mean     1.441914e+09\n",
      "std      5.992384e+07\n",
      "min      9.657792e+08\n",
      "25%      1.412122e+09\n",
      "50%      1.449360e+09\n",
      "75%      1.485130e+09\n",
      "max      1.538438e+09\n",
      "Name: unixReviewTime, dtype: float64,\n",
      "\n",
      "Распределение:\n",
      "1456790400    941\n",
      "1468454400    873\n",
      "1433289600    783\n",
      "1453248000    783\n",
      "1455926400    767\n",
      "             ... \n",
      "1144972800      1\n",
      "1114041600      1\n",
      "1190419200      1\n",
      "1161734400      1\n",
      "1185408000      1\n",
      "Name: unixReviewTime, Length: 4580, dtype: int64,\n",
      "\n",
      "AxesSubplot(0.125,0.125;0.775x0.755)\n"
     ]
    },
    {
     "data": {
      "image/png": "[encoded data removed]",
      "text/plain": [
       "<Figure size 432x288 with 1 Axes>"
      ]
     },
     "metadata": {
      "needs_background": "light"
     },
     "output_type": "display_data"
    }
   ],
   "source": [
    "info_col(df_train['unixReviewTime'],hist=True)"
   ]
  },
  {
   "cell_type": "code",
   "execution_count": 30,
   "metadata": {},
   "outputs": [
    {
     "name": "stdout",
     "output_type": "stream",
     "text": [
      "Самый ранний отзыв: 2000-08-09 00:00:00\n",
      "25 квантиль: 2014-10-01 00:00:00\n",
      "50 квантиль: 2015-12-06 00:00:00\n",
      "75 квантиль: 2017-01-23 00:00:00\n",
      "Последний отзыв: 2018-10-02 00:00:00\n"
     ]
    }
   ],
   "source": [
    "Q25 = int(df_train['unixReviewTime'].quantile(0.25))\n",
    "Q50 = int(df_train['unixReviewTime'].quantile(0.50))\n",
    "Q75 = int(df_train['unixReviewTime'].quantile(0.75))\n",
    "print('Самый ранний отзыв:', datetime.utcfromtimestamp(df_train['unixReviewTime'].min()).strftime('%Y-%m-%d %H:%M:%S'))\n",
    "print('25 квантиль:', datetime.utcfromtimestamp(Q25).strftime('%Y-%m-%d %H:%M:%S'))\n",
    "print('50 квантиль:', datetime.utcfromtimestamp(Q50).strftime('%Y-%m-%d %H:%M:%S'))\n",
    "print('75 квантиль:', datetime.utcfromtimestamp(Q75).strftime('%Y-%m-%d %H:%M:%S'))\n",
    "print('Последний отзыв:', datetime.utcfromtimestamp(df_train['unixReviewTime'].max()).strftime('%Y-%m-%d %H:%M:%S'))"
   ]
  },
  {
   "cell_type": "markdown",
   "metadata": {},
   "source": [
    "В период с 2000-2014 небольшое, возрастающее, количесво отзывов, тут можно обосновать тем, что люди только подсоединялись к сети интернет. Припишем категории к датам."
   ]
  },
  {
   "cell_type": "code",
   "execution_count": 31,
   "metadata": {},
   "outputs": [],
   "source": [
    "df_train['unixReviewTime'] = df_train['unixReviewTime'].apply(lambda x:cat_date(x))"
   ]
  },
  {
   "cell_type": "markdown",
   "metadata": {},
   "source": [
    "## vote"
   ]
  },
  {
   "cell_type": "code",
   "execution_count": 32,
   "metadata": {},
   "outputs": [
    {
     "name": "stdout",
     "output_type": "stream",
     "text": [
      "Количество пропусков: 728732,\n",
      "\n",
      "count     118861.0\n",
      "unique       477.0\n",
      "top            2.0\n",
      "freq       30774.0\n",
      "Name: vote, dtype: float64,\n",
      "\n",
      "Распределение:\n",
      "2.0      30774\n",
      "3.0      15336\n",
      "2        13786\n",
      "4.0       8893\n",
      "3         6969\n",
      "         ...  \n",
      "316.0        1\n",
      "385          1\n",
      "300          1\n",
      "151          1\n",
      "238.0        1\n",
      "Name: vote, Length: 477, dtype: int64,\n",
      "\n"
     ]
    }
   ],
   "source": [
    "info_col(df_train['vote'])"
   ]
  },
  {
   "cell_type": "markdown",
   "metadata": {},
   "source": [
    "Исходя из цифр, очень большое кол-во пропусков, в теории, можно удалить данный столбец, но я пока что заменю на нули."
   ]
  },
  {
   "cell_type": "code",
   "execution_count": 33,
   "metadata": {},
   "outputs": [],
   "source": [
    "df_train['vote'] = df_train['vote'].fillna(0)"
   ]
  },
  {
   "cell_type": "code",
   "execution_count": 34,
   "metadata": {},
   "outputs": [],
   "source": [
    "df_train['vote']=df_train['vote'].astype('str').apply(lambda x: x.replace(',',''))\n",
    "df_train['vote']=df_train['vote'].astype('float').astype('int64')"
   ]
  },
  {
   "cell_type": "code",
   "execution_count": 35,
   "metadata": {},
   "outputs": [],
   "source": [
    "df_train['vote'] = df_train['vote'].apply(lambda x: cat_vote(x))"
   ]
  },
  {
   "cell_type": "markdown",
   "metadata": {},
   "source": [
    "## style"
   ]
  },
  {
   "cell_type": "code",
   "execution_count": 36,
   "metadata": {},
   "outputs": [
    {
     "name": "stdout",
     "output_type": "stream",
     "text": [
      "Количество пропусков: 407242,\n",
      "\n",
      "count                      440351\n",
      "unique                      25892\n",
      "top       {'Size:': ' Pack of 1'}\n",
      "freq                         4856\n",
      "Name: style, dtype: object,\n",
      "\n",
      "Распределение:\n",
      "{'Size:': ' Pack of 1'}                                                      4856\n",
      "{'Package Quantity:': ' 1'}                                                  4526\n",
      "{'Package Type:': ' Standard Packaging'}                                     3898\n",
      "{'Size:': ' 1 Pack'}                                                         3848\n",
      "{'Size:': ' 24 Count'}                                                       3640\n",
      "                                                                             ... \n",
      "{'Flavor:': ' Pure PB'}                                                         1\n",
      "{'Size:': ' 6.75-ounce bag (pack of 2)'}                                        1\n",
      "{'Size:': ' 3.5-oz (12 Pack)', 'Style:': ' Spinner Gift Box'}                   1\n",
      "{'Size:': ' 3.5-Ounce Packages (Pack of 12)', 'Flavor:': ' 78% Dark'}           1\n",
      "{'Size:': ' 2lb', 'Flavor:': ' Jolly Rancher Bites - Strawberry & Apple'}       1\n",
      "Name: style, Length: 25892, dtype: int64,\n",
      "\n"
     ]
    }
   ],
   "source": [
    "info_col(df_train['style'])"
   ]
  },
  {
   "cell_type": "markdown",
   "metadata": {},
   "source": [
    "Очень большое кол-во пропусков, думаю, что можно будет удалить данный столбец."
   ]
  },
  {
   "cell_type": "code",
   "execution_count": 37,
   "metadata": {},
   "outputs": [],
   "source": [
    "df_train = df_train.drop(['style'],axis=1)"
   ]
  },
  {
   "cell_type": "markdown",
   "metadata": {},
   "source": [
    "## image_x"
   ]
  },
  {
   "cell_type": "markdown",
   "metadata": {},
   "source": [
    "Изображение продукта, можно удалить."
   ]
  },
  {
   "cell_type": "code",
   "execution_count": 38,
   "metadata": {},
   "outputs": [],
   "source": [
    "df_train = df_train.drop(['image_x'],axis=1)"
   ]
  },
  {
   "cell_type": "markdown",
   "metadata": {},
   "source": [
    "## userid"
   ]
  },
  {
   "cell_type": "code",
   "execution_count": 39,
   "metadata": {},
   "outputs": [
    {
     "name": "stdout",
     "output_type": "stream",
     "text": [
      "Количество пропусков: 0,\n",
      "\n",
      "count    847593.000000\n",
      "mean      53756.091163\n",
      "std       37211.809152\n",
      "min           0.000000\n",
      "25%       20347.000000\n",
      "50%       48581.000000\n",
      "75%       84723.000000\n",
      "max      127495.000000\n",
      "Name: userid, dtype: float64,\n",
      "\n",
      "Распределение:\n",
      "842       427\n",
      "17987     317\n",
      "355       302\n",
      "2024      296\n",
      "2809      279\n",
      "         ... \n",
      "112150      1\n",
      "82011       1\n",
      "32867       1\n",
      "109270      1\n",
      "125701      1\n",
      "Name: userid, Length: 127448, dtype: int64,\n",
      "\n"
     ]
    }
   ],
   "source": [
    "info_col(df_train['userid'])"
   ]
  },
  {
   "cell_type": "markdown",
   "metadata": {},
   "source": [
    "Тут всё нормально."
   ]
  },
  {
   "cell_type": "markdown",
   "metadata": {},
   "source": [
    "## itemid"
   ]
  },
  {
   "cell_type": "code",
   "execution_count": 40,
   "metadata": {},
   "outputs": [
    {
     "name": "stdout",
     "output_type": "stream",
     "text": [
      "Количество пропусков: 0,\n",
      "\n",
      "count    847593.00000\n",
      "mean      17090.10489\n",
      "std       11584.74670\n",
      "min           0.00000\n",
      "25%        6478.00000\n",
      "50%       16108.00000\n",
      "75%       26719.00000\n",
      "max       41319.00000\n",
      "Name: itemid, dtype: float64,\n",
      "\n",
      "Распределение:\n",
      "22208    5430\n",
      "23540    4733\n",
      "24556    4611\n",
      "379      4252\n",
      "32046    2449\n",
      "         ... \n",
      "38602       1\n",
      "40366       1\n",
      "39236       1\n",
      "16638       1\n",
      "6440        1\n",
      "Name: itemid, Length: 41302, dtype: int64,\n",
      "\n"
     ]
    }
   ],
   "source": [
    "info_col(df_train['itemid'])"
   ]
  },
  {
   "cell_type": "markdown",
   "metadata": {},
   "source": [
    "Проверим, есть ли пропущенные id"
   ]
  },
  {
   "cell_type": "code",
   "execution_count": 41,
   "metadata": {},
   "outputs": [
    {
     "name": "stdout",
     "output_type": "stream",
     "text": [
      "Количество уникальных itemid в тренировочном датасете: 41302\n",
      "Максимальный itemid в тренировочном датасете: 41320\n"
     ]
    }
   ],
   "source": [
    "print('Количество уникальных itemid в тренировочном датасете:',len(df_train['itemid'].unique()))\n",
    "print('Максимальный itemid в тренировочном датасете:',df_train['itemid'].max()+1)"
   ]
  },
  {
   "cell_type": "markdown",
   "metadata": {},
   "source": [
    "18 товаров не в датасете, возможно, это как-то повлияет на обучение."
   ]
  },
  {
   "cell_type": "markdown",
   "metadata": {},
   "source": [
    "## rating"
   ]
  },
  {
   "cell_type": "code",
   "execution_count": 42,
   "metadata": {},
   "outputs": [
    {
     "name": "stdout",
     "output_type": "stream",
     "text": [
      "Количество пропусков: 0,\n",
      "\n",
      "count    847593.000000\n",
      "mean          0.848747\n",
      "std           0.358296\n",
      "min           0.000000\n",
      "25%           1.000000\n",
      "50%           1.000000\n",
      "75%           1.000000\n",
      "max           1.000000\n",
      "Name: rating, dtype: float64,\n",
      "\n",
      "Распределение:\n",
      "1.0    719392\n",
      "0.0    128201\n",
      "Name: rating, dtype: int64,\n",
      "\n"
     ]
    }
   ],
   "source": [
    "info_col(df_train['rating'])"
   ]
  },
  {
   "cell_type": "markdown",
   "metadata": {},
   "source": [
    "Скорее всего, целевая переменная. Всего 2 значения, понравилось или нет. Нужно глянуть как оценка коррелирует с тем что пользователю понравился товар."
   ]
  },
  {
   "cell_type": "code",
   "execution_count": 43,
   "metadata": {},
   "outputs": [
    {
     "name": "stdout",
     "output_type": "stream",
     "text": [
      "Оценки при rating = 0:\n",
      " 3.0    59795\n",
      "1.0    37071\n",
      "2.0    31335\n",
      "Name: overall, dtype: int64\n",
      "Оценки при rating = 1:\n",
      " 5.0    607524\n",
      "4.0    111868\n",
      "Name: overall, dtype: int64\n"
     ]
    }
   ],
   "source": [
    "print('Оценки при rating = 0:\\n', df_train[df_train['rating'] == 0].overall.value_counts())\n",
    "print('Оценки при rating = 1:\\n', df_train[df_train['rating'] == 1].overall.value_counts())"
   ]
  },
  {
   "cell_type": "markdown",
   "metadata": {},
   "source": [
    "Выглядит достаточно логично"
   ]
  },
  {
   "cell_type": "markdown",
   "metadata": {},
   "source": [
    "## category"
   ]
  },
  {
   "cell_type": "code",
   "execution_count": 44,
   "metadata": {},
   "outputs": [
    {
     "name": "stdout",
     "output_type": "stream",
     "text": [
      "Всего категорий:  1003\n",
      "Топ 500 категорий:  ['Grocery & Gourmet Food', 'Beverages', 'Coffee, Tea & Cocoa', 'Cooking & Baking', 'Snack Foods', 'Coffee', 'Candy & Chocolate', 'Tea', 'Herbs, Spices & Seasonings', 'Single-Serve Capsules & Pods', 'Bottled Beverages, Water & Drink Mixes', 'Nuts & Seeds', 'Breakfast Foods', 'Canned, Jarred & Packaged Foods', 'Single Herbs & Spices', 'Bars', 'Syrups, Sugars & Sweeteners', 'Green', 'Cooking Oils, Vinegars & Sprays', 'Cereals', 'Produce', 'Jelly Beans & Gummy Candy', 'Breakfast & Cereal Bars', 'Cookies', 'Soups, Stocks & Broths', 'Sauces, Gravies & Marinades', 'Oils', 'Nut Bars', 'Jams, Jellies & Sweet Spreads', 'Candy & Chocolate Bars', 'Hard Candy & Lollipops', 'Roasted Coffee Beans', 'Packaged Meals & Side Dishes', 'Tea Samplers', 'Baking Mixes', 'Chips & Crisps', 'Mixed Spices & Seasonings', 'Ground Coffee', 'Sugar Substitutes', 'Black', 'Salt & Salt Substitutes', 'Dried Fruits & Vegetables', 'Juices', 'Dairy, Cheese & Eggs', 'Dried Fruits', 'Jerky & Dried Meats', 'Crackers', 'Dried Beans, Grains & Rice', 'Nut & Seed Butters', 'Herbal', 'Flours & Meals', 'Sauces', 'Hard Candy', 'Chewing & Bubble Gum', 'Popcorn', 'Energy & Nutritional', 'Honey', 'Pasta & Noodles', 'Condiments & Salad Dressings', 'Peanuts', 'Oatmeal', 'Cocoa', 'Gummy Candy', 'Cereal', 'Candy & Chocolate Assortments', 'Food & Beverage Gifts', 'Coconut', 'Grains & Rice', 'Peanut Butter', 'Baking Chocolates, Carob & Cocoa', 'Potato', 'Meat, Poultry & Seafood', 'Asian', 'Breads & Bakery', 'Flavor Syrups', 'Sugars', 'Seafood', 'Stevia', 'Cold Cereals', 'Meal Replacement & Protein Drinks', 'Fruit Juice', 'Pasta', 'Granola', 'Vegetables', 'Almonds', 'Suckers & Lollipops', 'Leaveners & Yeasts', 'Extracts & Flavoring', 'Powdered Drink Mixes & Flavorings', 'Sea Salt', 'Soft Drinks', 'Powdered Drink Mixes', 'Protein Drinks', 'Candied & Chocolate-covered Snacks', 'Chocolate & Fudge', 'Mints', 'Hot Sauce', 'Meat & Seafood', 'Energy Drinks', 'Instant Coffee', 'Pancakes & Waffles', 'Water', 'Wheat Flours & Meals', 'Pasta & Noodle Dishes', 'Chia Seeds', 'Matcha', 'Cakes', 'Cashews', 'Soft Drink Mixes', 'Licorice', 'Unpopped', 'Brittle, Caramel & Toffee', 'Pepper & Peppercorns', 'Olive', 'Milk Substitutes', 'Vinegars', 'Jelly Beans', 'Fresh Vegetables', 'Frosting, Icing & Decorations', 'Meat Seasoning', 'Maple Syrup', 'Frozen', 'Fruit Snacks', 'Mixed Nuts', 'Fresh Fruits', 'Chocolate Truffles', 'Xylitol', 'Coconut Water', 'Vegetable Soups', 'Iced Tea', 'Thickeners', 'Cinnamon', 'Vanilla Beans', 'Pretzels', 'Pudding & Gelatin', 'Chocolate', 'Sandwich', 'Popped', 'Biscuits', 'Chicken Soups', 'Macaroni & Cheese', 'Olives, Pickles & Relishes', 'Walnuts', 'Jams, Jellies & Preserves', 'Chocolate Chip', 'Breads', 'Condensed & Powdered Milk', 'Coarse Salt', 'Almond Butter', 'Active Dry Yeasts', 'Taffy', 'Caramels', 'Cheese', 'Milk & Cream', 'Vegetable', 'Candy & Chocolate Gifts', 'Lard & Shortening', 'Microwave', 'Ginger Candy', 'Assortments & Samplers', 'Powdered', 'Noodles', 'Fresh Flowers & Live Indoor Plants', 'Dried Berries', 'Corn', 'Tomatoes', 'Peppercorns', 'Mayonnaise', 'Chicken', 'Beans', 'Salad Dressings', 'Garlic', 'White', 'Ghee', 'Pumpkin Seeds', 'Chai', 'Mustard', 'Tortilla', 'Bouillon', 'Hemp Seeds', 'Beans & Peas', 'Apple Cider', 'Coconut Flakes', 'Toaster Pastries', 'Fruit & Nut', 'Non-Dairy Coffee Creamers', 'Candied & Chocolate-coated Nuts', 'Party Mix', 'Penne', 'Packaged Breads', 'Asian Dishes', 'Flax Seed', 'Dessert Syrups & Sauces', 'Tuna Fish', 'Broths', 'Live Indoor Plants', 'Beef', 'Coconut Milk', 'Meal Replacement Drinks', 'Chili Powder', 'Rice Dishes', 'Sunflower Seeds', 'Ginger', 'Italian', 'Pudding', 'Coffee Substitutes', 'Quinoa', 'Fruits', 'Fresh Seafood', 'Turmeric', 'Soy Sauce', 'Snack & Trail Mixes', 'Flatbread', 'Almond', 'Mineral Water', 'Sardines', 'Spaghetti', 'Pistachios', 'Salsas, Dips & Spreads', 'Shortbread', 'Dried Dates', 'Pecans', 'Flavored Salt', 'Brown', 'Food Coloring', 'Shirataki', 'Curry Sauce', 'Chocolates', 'Vegetable Juice', 'Chili', 'Rice Cakes, Chips & Crackers', 'Sparkling Juice', 'Soy Milk', 'Mexican Dishes', 'Barbecue', 'Ground Pepper', 'Dried Seaweed & Nori', 'Frostings & Icings', 'Brownies', 'Oolong', 'Fresh Fish', 'Gelatin', 'Olives', 'Fruit Leather', 'Indian Dishes', 'Puffed Snacks', 'Noodle Soups', 'Beef Soups', 'Potatoes & Stuffings', 'Raisins', 'Butter', 'Chile Paste', 'Rock Salt', 'Coffee Creamers', 'Onion', 'Flavored Water', 'Brazil Nuts', 'Wafers', 'Macadamia Nuts', 'Ketchup', 'Sausages', 'High Protein', 'Candied & Chocolate-coated Fruit', 'Cocktail Mixers', 'House Plants', 'Snack Cakes & Pastries', 'Fruit', 'Diced', 'Sesame', 'Prepared Foods', 'Baking Soda', 'Sports Drinks', 'Paprika', 'Agave Nectar & Syrup', 'Yogurt', 'Snack Gifts', 'Wheat', 'Basmati', 'Potato Side Dishes', 'Dips & Spreads', 'Nut Clusters', 'Chocolate & Hazelnut Spreads', 'Sprinkles & Glitters', 'Miso Soups', 'Salmon', 'Marshmallows', 'Meat Substitutes', 'Breadcrumbs & Seasoned Coatings', 'Animal', 'Seaweed Snacks', 'Muffins', 'Meals & Entrees', 'Tortillas', 'Avocado', 'Breakfast Bakery', 'Applesauce & Fruit Cups', 'Balsamic', 'Packaged Produce', 'Cumin', 'Graham Crackers', 'Biscotti', 'Seasoning Mixes', 'Coffee & Tea Gifts', 'Sandwich Breads', 'Desserts', 'Pita', 'Fruit & Nut Gifts', 'Muesli', 'Sprinkles', 'Cajun Seasoning', 'Traditional & International Sweets', 'Italian Seasoning', 'Sandwich Spreads', 'Cake & Cupcake Toppers', 'Mexican Seasoning', 'Coconut Sauce', 'Fudge', 'Whole Grain', 'Carob', 'Lentils', 'Grits', 'Curry Powder', 'Powdered Cheese', 'Dried Apples', 'Rooibos', 'Applesauce', 'Gourmet Rubs', 'Sesame Seed', 'Gravies', 'Bottled & Canned Coffee Drinks', 'Asian Noodle Soups', 'Potatoes & Yams', 'Pork Rinds', 'Molasses', 'Cold-Brew Coffee & Concentrate', 'Baking Powder', 'Spiced Meat', 'Ice Cream & Novelties', 'Oat Flour', 'Fresh Cut Flowers', 'Butter & Margarine', \"Baker's Yeast\", 'Snack Cakes', 'Pie & Pastry Fillings', 'Dried Apricots', 'Chili Sauce', 'Dairy Milk', 'Herb, Spice & Seasoning Gifts', 'Dried Vegetables', 'Bakery & Dessert Gifts', 'Salad Toppings', 'Parmesan', 'Sparkling Water', 'Pickles', 'Barbecue Seasoning', 'Refried Beans', 'Simple Syrup', 'Toffee', 'Chili Mix', 'Ginger Snaps', 'Berries', 'Brittle', 'Dried Banana Chips', 'Salsas', 'Barley Flour', 'Chowders', 'Cheddar', 'Couscous', 'Vinaigrette', 'Rice Flour', 'Dried Fruit & Raisins', 'Garbanzo', 'Wild', 'Relishes', 'Baked Beans', 'Halva', 'Dried Figs', 'Eggs & Egg Substitutes', 'Dried Prunes', 'Chocolate-coated Espresso Beans', 'Saffron', 'Bonsai', 'Dried Mangoes', 'Tomato Soups', 'Seasoned Salt', 'Deli', 'Bananas & Plantains', 'Marinara', 'Ranch', 'Cardamom Seed', 'Dijon Mustard', 'Lemonade', 'Bitters', 'Fettuccine', 'Caviars & Roes', 'Popcorn Salt', 'Marmalades', 'Cherries', 'Bacon', 'Cashew Butter', 'Almond Milk', 'Dill Pickles', 'Packaged & Sliced Deli Meats', 'Flax Seeds', 'Rice Bowls', 'Truffle', 'Fusilli', 'Mushrooms', 'Indian Seasoning', 'Allspice', 'Fennel Seed', 'Anchovies', 'Oregano', 'Risotto', 'Fresh Baked Cookies', 'Sour Candy', 'Rice', 'Wheat Berries', 'Stocks', 'Stir-Fry Sauce', 'Palm Sugar', 'Pizza Crusts', 'Tuna', 'Soba', 'Bubble Tea Tapioca Pearls', 'Pizza', 'Green Beans', 'Poultry Seasoning', 'Dill', 'Fish Sauce', 'String & Snack', 'Parsley', 'Shortening', 'Coriander', 'Fresh Bakery Breads', 'Dried Mushrooms', 'Cake Toppers', 'Saltines', 'Seasoned Coatings', 'Cupcake Toppers', 'Chinese Five Spice', 'Dried Mixed Fruits', 'Flavored Milk', 'Packaged Cured & Deli Meats', 'Apples', 'Wasabi Peas', 'Soy', 'Hazelnuts', 'Root Vegetables', 'Bonito Flakes', 'Garam Masala', 'Poppy Seed', 'Dried Cherries', 'Mixed Bouquets', 'Citrus Fruits', 'Processed Cheese', 'Marzipan & Almond Paste', 'Meatless', 'Fresh Shellfish', 'Table Salt', 'Greek & Strained Yogurt', 'Buckwheat', 'Sports Drinking Water', 'Salt Substitutes', 'Smoothies', 'Peas', 'Summer', 'Nut', 'Cloves', 'Mushrooms & Truffles', 'Whole Eggs', 'Meatballs, Chunks & Crumbles', 'Ice Cream', 'Unroasted Coffee Beans', 'Salami', 'Cream of Tartar', 'Oat Bran', 'Fresh Herbs', 'Meats', 'Leafy Greens', 'Fenugreek', 'Cut & Packaged Fruits', 'Dried Peaches', 'Cayenne', 'Vegetable Relishes', 'Packaged Salad Mixes', 'Dips, Salsas & Spreads', 'Mulling Spice', 'Tomato Paste', 'Bay Leaf', 'Stews', 'Tomato Sauce', 'Peeled', 'Fruit Bars', 'Matzo', 'Miso', 'Meat & Seafood Gifts', 'Sauce, Gravy & Marinade Gifts', 'Water Flavoring Drops', 'Savory']\n"
     ]
    }
   ],
   "source": [
    "# Зададим переменной количество категорий\n",
    "N_CATS = 500\n",
    "\n",
    "# Создаем пустой список, в который будут добавляться все категории\n",
    "all_categories = []\n",
    "\n",
    "# Добавляем категории каждой записи в общий список\n",
    "for category in df_train['category']:\n",
    "    all_categories.extend(category)\n",
    "\n",
    "# Считаем частоту категорий в датасете\n",
    "cnt = Counter()\n",
    "for word in all_categories:\n",
    "    cnt[word] +=1\n",
    "    \n",
    "#Оставим топ N_CATS категорий\n",
    "top_cat = []\n",
    "for i in range (0, len(cnt.most_common(N_CATS))):\n",
    "    cat = cnt.most_common(N_CATS)[i][0]\n",
    "    top_cat.append(cat)\n",
    "    \n",
    "# Удаляем дубликаты из all_categories\n",
    "all_categories = list(dict.fromkeys(all_categories))\n",
    "\n",
    "print('Всего категорий: ', len(all_categories))\n",
    "print('Топ', N_CATS, 'категорий: ',top_cat)"
   ]
  },
  {
   "cell_type": "code",
   "execution_count": 45,
   "metadata": {},
   "outputs": [],
   "source": [
    "# Напишем функцию, которая будет оставлять только топовые категории в списке, остальные удалит\n",
    "def top_category(categories):\n",
    "    top_categories = []\n",
    "    for category in categories:\n",
    "        if category in top_cat:\n",
    "            top_categories.append(category)\n",
    "    x = top_categories\n",
    "    return x\n",
    "\n",
    "# Применим функцию к датасету, оставим только топовые категории в столбце category\n",
    "df_train['category'] = df_train['category'].apply(lambda x: top_category(x))\n",
    "\n",
    "\n",
    "# Создание dummy-переменных на основе топовых категорий \n",
    "\n",
    "# Функция для отображения категорий в записи\n",
    "def find_item(cell):\n",
    "    if item in cell:\n",
    "        return 1\n",
    "    return 0\n",
    "\n",
    "# Cоздаем столбцы с категориями и заполняем 0 или 1\n",
    "for item in top_cat:\n",
    "    column_name = 'category' + item\n",
    "    df_train[column_name] = df_train['category'].apply(find_item)\n",
    "\n",
    "all_categories = None\n",
    "cnt = None\n",
    "top_cat = None"
   ]
  },
  {
   "cell_type": "markdown",
   "metadata": {},
   "source": [
    "Удалим столбец с категориями"
   ]
  },
  {
   "cell_type": "code",
   "execution_count": 46,
   "metadata": {},
   "outputs": [],
   "source": [
    "df_train = df_train.drop(['category'],axis=1)"
   ]
  },
  {
   "cell_type": "markdown",
   "metadata": {},
   "source": [
    "## description"
   ]
  },
  {
   "cell_type": "markdown",
   "metadata": {},
   "source": [
    "Cделаем то же самое, что мы делали для признака reviewText: найдем самые часто встречающиеся слова, оставим только их и подготовимся к созданию dummy-переменных."
   ]
  },
  {
   "cell_type": "code",
   "execution_count": 47,
   "metadata": {},
   "outputs": [
    {
     "data": {
      "text/plain": [
       "0         [Adobo seasoning (known as adobo seco) is a ve...\n",
       "1         [Adobo seasoning (known as adobo seco) is a ve...\n",
       "2         [Adobo seasoning (known as adobo seco) is a ve...\n",
       "3         [Adobo seasoning (known as adobo seco) is a ve...\n",
       "4         [Adobo seasoning (known as adobo seco) is a ve...\n",
       "                                ...                        \n",
       "847588    [Boyer milk chocolate mallo cups are milk choc...\n",
       "847589    [Nut butters are NOT all created equal. PB Ame...\n",
       "847590    [2 Bag Total 4 LBS Roast: Medium, balanced, sm...\n",
       "847591    [Take a sip of Genesis Today's White Mulberry ...\n",
       "847592    [, BEACH CLIFF Sardines in Soybean Oil with Ho...\n",
       "Name: description, Length: 847593, dtype: object"
      ]
     },
     "execution_count": 47,
     "metadata": {},
     "output_type": "execute_result"
    }
   ],
   "source": [
    "df_train['description']"
   ]
  },
  {
   "cell_type": "code",
   "execution_count": 48,
   "metadata": {},
   "outputs": [
    {
     "name": "stdout",
     "output_type": "stream",
     "text": [
      "Всего слов  45025\n",
      "Топ 200 слов:  ['and', 'the', 'to', 'or', 'of', 'a', 'not', 'in', 'are', 'is', 'for', 'with', 'by', 'have', 'any', 'been', 'health', 'treat', 'intended', 'disease', 'prevent', 'cure', 'dietary', 'diagnose', 'evaluated', 'statements', 'you', 'condition', 'supplements', 'regarding', 'fda', 'that', 'our', 'this', 'organic', 'it', 'from', 'we', 'your', 'as', 'on', 's', 'product', 'tea', 'flavor', 'natural', 'sugar', 'salt', 'oil', 'coffee', 'water', '1', 'ingredients', 'all', 'milk', 'free', 'products', 'may', '2', 'its', 'an', 'chocolate', 'has', 'taste', 'cup', 'can', 'delicious', 'more', 'no', 'contains', 'be', 'made', 'quality', 'use', 'flavors', 'soy', 'flour', 'food', 'information', 'at', 'acid', 'one', 'wheat', 'than', 'whole', 'great', 'powder', 'corn', 'nuts', 'these', '100', 'coconut', 'rice', 'gluten', '3', 'protein', 'enjoy', 'add', 'butter', 'into', 'only', 'just', 'syrup', 'over', 'they', 'blend', 'best', 'their', 'high', 'make', 'sweet', 'perfect', 'also', 'like', 'other', 'artificial', 'will', 'vitamin', 'was', 'do', '5', 'fresh', 'fruit', 'each', 'rich', 'extract', 'fat', 'if', 'honey', 'good', 'so', 'sodium', 'red', 'minutes', 'snack', 'hot', 'peanuts', 'warnings', 'states', 'certified', 'world', 'used', 'beans', 'contain', 'mix', 'cocoa', 'up', 'when', 'bag', 'but', 'before', 'about', 'every', 'allergen', 'most', 'non', 'healthy', 'green', 'color', 'please', 'vanilla', 'family', '4', 'time', 'united', 'well', 'favorite', 'cheese', 'standards', 'sold', 'foods', 'sea', 'fiber', 'using', 'serving', 'juice', 'way', 'day', 'lecithin', 'per', 'k', 'them', 'black', 'company', 'grain', 'spices', 'oz', 'baking', 'packaging', 'which', 'new', 'years', 'cups', 'full', 'gmo', 'tree', 'place', 'less', 'similar', 'starch']\n"
     ]
    }
   ],
   "source": [
    "# Зададим переменной количество наиболее частов встречающихся слов, которое хотим оставить\n",
    "N_WORDS = 200\n",
    "\n",
    "# Сейчас в поле description список строк. Приведем к единой строке.\n",
    "df_train['description']=df_train['description'].astype('str')\n",
    "\n",
    "# Разбиваем description на список слов, предварительно приводим текст к нижнему регистру\n",
    "df_train['description']=df_train['description'].apply(lambda x: re.sub(\"[^\\w]\", \" \",  x.lower()).split())\n",
    "                                        \n",
    "# Создаем пустой список, в который будут добавляться все слова\n",
    "all_words = []\n",
    "\n",
    "# Добавляем слова каждой записи в общий список\n",
    "for words in df_train['description']:\n",
    "    # разбиваем текст на слова, предварительно приводим к нижнему регистру\n",
    "    all_words.extend(words)\n",
    "\n",
    "# Считаем частоту слов в датасете\n",
    "cnt = Counter()\n",
    "for word in all_words:\n",
    "    cnt[word] +=1\n",
    "    \n",
    "#Оставим топ N_WORDS слов\n",
    "top_words = []\n",
    "for i in range (0, len(cnt.most_common(N_WORDS))):\n",
    "    words = cnt.most_common(N_WORDS)[i][0]\n",
    "    top_words.append(words)\n",
    "    \n",
    "# Удаляем дубликаты из all_words\n",
    "all_words = list(dict.fromkeys(all_words))\n",
    "\n",
    "print('Всего слов ', len(all_words))\n",
    "print('Топ', N_WORDS, 'слов: ',top_words)"
   ]
  },
  {
   "cell_type": "code",
   "execution_count": 49,
   "metadata": {},
   "outputs": [],
   "source": [
    "top_word_list = [\n",
    "    'health',\n",
    "    'treat',\n",
    "    'intended',\n",
    "    'disease',\n",
    "    'prevent',\n",
    "    'cure',\n",
    "    'dietary',\n",
    "    'diagnose',\n",
    "    'evaluated',\n",
    "    'statements',\n",
    "    'condition',\n",
    "    'supplements',\n",
    "    '1',\n",
    "    'organic',\n",
    "    'flavor',\n",
    "    'tea',\n",
    "    'natural',\n",
    "    'sugar',\n",
    "    'salt',\n",
    "    'water',\n",
    "    'oil',\n",
    "    'coffee',\n",
    "    'ingredients',\n",
    "    'milk',\n",
    "    'free',\n",
    "    'products',\n",
    "    'chocolate',\n",
    "    'taste',\n",
    "    'cup',\n",
    "    'delicious',\n",
    "    'quality',\n",
    "    'flavors',\n",
    "    'soy',\n",
    "    'food',\n",
    "    'flour',\n",
    "    'acid',\n",
    "    'wheat',\n",
    "    'great',\n",
    "    'powder',\n",
    "    'corn',\n",
    "    'nuts',\n",
    "    'rice',\n",
    "    'protein',\n",
    "    'coconut',\n",
    "    'gluten',\n",
    "    'butter',\n",
    "    'syrup',\n",
    "    'blend',\n",
    "    'high',\n",
    "    'best']"
   ]
  },
  {
   "cell_type": "code",
   "execution_count": 50,
   "metadata": {},
   "outputs": [],
   "source": [
    "# Напишем функцию, которая будет оставлять в списке только слова из top_word_list, остальные удалит\n",
    "def leave_top_words(words):\n",
    "    top_words = []\n",
    "    for word in words:\n",
    "        if word in top_word_list:\n",
    "            top_words.append(word)\n",
    "    x = top_words\n",
    "    return x\n",
    "\n",
    "# Применим функцию к датасету, оставим только слова из top_word_list в столбце description\n",
    "df_train['description'] = df_train['description'].apply(lambda x: leave_top_words(x))\n",
    "\n",
    "\n",
    "# Создание dummy-переменных на основе слов из top_word_list\n",
    "\n",
    "# Функция для отображения категорий в записи\n",
    "def find_item(cell):\n",
    "    if item in cell:\n",
    "        return 1\n",
    "    return 0\n",
    "\n",
    "# Cоздаем столбцы со словами из top_word_list и заполняем 0 или 1\n",
    "for item in top_word_list:\n",
    "    column_name = 'description' + item\n",
    "    df_train[column_name] = df_train['description'].apply(find_item)\n",
    "    \n",
    "\n",
    "all_words = None\n",
    "cnt = None\n",
    "top_words = None"
   ]
  },
  {
   "cell_type": "code",
   "execution_count": 51,
   "metadata": {},
   "outputs": [],
   "source": [
    "df_train = df_train.drop(['description'],axis=1)"
   ]
  },
  {
   "cell_type": "markdown",
   "metadata": {},
   "source": [
    "## title"
   ]
  },
  {
   "cell_type": "markdown",
   "metadata": {},
   "source": [
    "Думаю,что его можно будет удалить"
   ]
  },
  {
   "cell_type": "code",
   "execution_count": 52,
   "metadata": {},
   "outputs": [],
   "source": [
    "df_train = df_train.drop(['title'],axis=1)"
   ]
  },
  {
   "cell_type": "markdown",
   "metadata": {},
   "source": [
    "## brand"
   ]
  },
  {
   "cell_type": "code",
   "execution_count": 53,
   "metadata": {},
   "outputs": [
    {
     "name": "stdout",
     "output_type": "stream",
     "text": [
      "Количество пропусков: 6104,\n",
      "\n",
      "count     841489\n",
      "unique      8866\n",
      "top         KIND\n",
      "freq       22506\n",
      "Name: brand, dtype: object,\n",
      "\n",
      "Распределение:\n",
      "KIND                     22506\n",
      "Bob's Red Mill           13061\n",
      "Twinings                 11182\n",
      "Planters                 10384\n",
      "Frontier                  6926\n",
      "                         ...  \n",
      "LOU'S BONSAI  NURSERY        1\n",
      "Mallo Cup                    1\n",
      "Novus Tea                    1\n",
      "Global Healing Center        1\n",
      "Genesis Today                1\n",
      "Name: brand, Length: 8866, dtype: int64,\n",
      "\n"
     ]
    }
   ],
   "source": [
    "info_col(df_train['brand'])"
   ]
  },
  {
   "cell_type": "markdown",
   "metadata": {},
   "source": [
    "Пропусков относительно не много. 8866 разных производителей. Можно выделить самых известных и сделать для них dummy-переменные"
   ]
  },
  {
   "cell_type": "code",
   "execution_count": 54,
   "metadata": {},
   "outputs": [
    {
     "name": "stdout",
     "output_type": "stream",
     "text": [
      "Всего производителей:  8867\n",
      "Топ 50 производителей:  ['KIND', \"Bob's Red Mill\", 'Twinings', 'Planters', 'Frontier', 'Green Mountain Coffee Roasters', 'Celestial Seasonings', 'nan', 'McCormick', 'Kirkland Signature', 'Healthworks', 'Simply Organic', \"HERSHEY'S\", 'Nutiva', 'Quaker', 'produce aisle', 'Viva Naturals', \"Campbell's\", 'Starbucks', 'Hoosier Hill Farm', 'YumEarth', 'Lipton', 'Food to Live', 'NOW Foods', 'Yogi', 'Sincerely Nuts', 'Stash Tea', 'Torani', 'Harney & Sons', 'Terrasoul Superfoods', \"Annie's Homegrown\", 'Bragg', 'Lindt', 'Barilla', 'Custom Variety Pack', 'SweetLeaf', 'Folgers', 'Jelly Belly', \"Trader Joe's\", 'Ghirardelli', 'Bigelow Tea', 'Spicy World', \"Davidson's Tea\", 'Crazy Cups', \"Newman's Own\", 'Traditional Medicinals', \"Eight O'Clock Coffee\", 'Lavazza', 'Keurig', 'Kettle Brand']\n"
     ]
    }
   ],
   "source": [
    "# Зададим переменной количество производителей\n",
    "N_BRANDS = 50\n",
    "\n",
    "# Приведем к str\n",
    "df_train['brand']=df_train['brand'].astype('str')\n",
    "\n",
    "# Создаем пустой список, в который будут добавляться все производители\n",
    "all_brands = []\n",
    "\n",
    "# Добавляем производителя из каждой записи в общий список\n",
    "for brand in df_train['brand']:\n",
    "    all_brands.append(brand)\n",
    "\n",
    "# Считаем количество производителей в датасете\n",
    "cnt = Counter()\n",
    "for word in all_brands:\n",
    "    cnt[word] +=1\n",
    "    \n",
    "#Оставим топ N_BRANDS производителей\n",
    "top_brand = []\n",
    "for i in range (0, len(cnt.most_common(N_BRANDS))):\n",
    "    br = cnt.most_common(N_BRANDS)[i][0]\n",
    "    top_brand.append(br)\n",
    "    \n",
    "# Удаляем дубликаты из all_brands\n",
    "all_brands = list(dict.fromkeys(all_brands))\n",
    "\n",
    "print('Всего производителей: ', len(all_brands))\n",
    "print('Топ', N_BRANDS, 'производителей: ',top_brand)"
   ]
  },
  {
   "cell_type": "code",
   "execution_count": 55,
   "metadata": {},
   "outputs": [],
   "source": [
    "# Напишем функцию, которая будет оставлять только топовых производителей, остальных удалит\n",
    "def leave_top_brand(brands):\n",
    "    top_brands = []\n",
    "    for brand in brands:\n",
    "        if brand in top_brand:\n",
    "            top_brands.append(brand)\n",
    "    x = top_brands\n",
    "    return x\n",
    "\n",
    "# Применим функцию к датасету, оставим только топовых производителей в стольце brand\n",
    "df_train['brand'] = df_train['brand'].apply(lambda x: leave_top_brand(x))\n",
    "\n",
    "\n",
    "# Создание dummy-переменных на основе топовых производителей \n",
    "\n",
    "# Функция для отображения производителей в записи\n",
    "def find_item(cell):\n",
    "    if item in cell:\n",
    "        return 1\n",
    "    return 0\n",
    "\n",
    "# Cоздаем столбцы с производителями и заполняем 0 или 1\n",
    "for item in top_brand:\n",
    "    column_name = 'brand_' + item\n",
    "    df_train[column_name] = df_train['brand'].apply(find_item)\n",
    "    \n",
    "all_brands = None\n",
    "cnt = None\n",
    "top_brand = None"
   ]
  },
  {
   "cell_type": "code",
   "execution_count": 56,
   "metadata": {},
   "outputs": [],
   "source": [
    "df_train = df_train.drop(['brand'],axis=1)"
   ]
  },
  {
   "cell_type": "markdown",
   "metadata": {},
   "source": [
    "## rank"
   ]
  },
  {
   "cell_type": "code",
   "execution_count": 57,
   "metadata": {},
   "outputs": [
    {
     "name": "stdout",
     "output_type": "stream",
     "text": [
      "Количество пропусков: 34598,\n"
     ]
    }
   ],
   "source": [
    "print('Количество пропусков: {},'.format(df_train['rank'].isnull().sum()))"
   ]
  },
  {
   "cell_type": "markdown",
   "metadata": {},
   "source": [
    "Приведем значения данного признака к единому числовому виду"
   ]
  },
  {
   "cell_type": "code",
   "execution_count": 58,
   "metadata": {},
   "outputs": [
    {
     "name": "stdout",
     "output_type": "stream",
     "text": [
      "Количество пропусков: 0,\n",
      "\n",
      "count    8.475930e+05\n",
      "mean     6.676660e+05\n",
      "std      2.289290e+06\n",
      "min      4.000000e+00\n",
      "25%      1.094000e+04\n",
      "50%      4.999900e+04\n",
      "75%      1.799160e+05\n",
      "max      9.999999e+06\n",
      "Name: rank, dtype: float64,\n",
      "\n",
      "Распределение:\n",
      "9999999    47163\n",
      "18          7421\n",
      "4575        4733\n",
      "2949        4611\n",
      "142261      4252\n",
      "           ...  \n",
      "655714         1\n",
      "502857         1\n",
      "377792         1\n",
      "304157         1\n",
      "272257         1\n",
      "Name: rank, Length: 35977, dtype: int64,\n",
      "\n"
     ]
    }
   ],
   "source": [
    "# Приведем все к str\n",
    "df_train['rank'] = df_train['rank'].astype('str')\n",
    "# Удалим все значения кроме числовых\n",
    "df_train['rank'] = df_train['rank'].apply(lambda x: re.sub('\\D', '', x))\n",
    "# Заменим пропуски на высокий ранг (предположим, что чем ниже ранг, тем лучше)\n",
    "df_train['rank'] = df_train['rank'].apply(lambda x: 9999999 if x == '' else x)\n",
    "df_train['rank'] = df_train['rank'].astype('float')\n",
    "# Остаются какие-то большие значения, заменим их на высокий ранг\n",
    "df_train['rank'] = df_train['rank'].apply(lambda x: 9999999 if x > 9999999 else x)\n",
    "df_train['rank'] = df_train['rank'].astype('int32')\n",
    "# Посмотрим на результат\n",
    "info_col(df_train['rank'])"
   ]
  },
  {
   "cell_type": "code",
   "execution_count": 59,
   "metadata": {},
   "outputs": [],
   "source": [
    "df_train['rank'] = df_train['rank'].apply(lambda x: cat_rank(x))"
   ]
  },
  {
   "cell_type": "markdown",
   "metadata": {},
   "source": [
    "## also_view"
   ]
  },
  {
   "cell_type": "markdown",
   "metadata": {},
   "source": [
    "Товары, которые упоминаются, при просмотре других товаров, до конца не догадываюсь, что можно с этим делать, удалю"
   ]
  },
  {
   "cell_type": "code",
   "execution_count": 60,
   "metadata": {},
   "outputs": [],
   "source": [
    "df_train = df_train.drop(['also_view'],axis=1)"
   ]
  },
  {
   "cell_type": "markdown",
   "metadata": {},
   "source": [
    "## main_cat"
   ]
  },
  {
   "cell_type": "code",
   "execution_count": 61,
   "metadata": {},
   "outputs": [
    {
     "name": "stdout",
     "output_type": "stream",
     "text": [
      "Количество пропусков: 955,\n",
      "\n",
      "count      846638\n",
      "unique         17\n",
      "top       Grocery\n",
      "freq       802613\n",
      "Name: main_cat, dtype: object,\n",
      "\n",
      "Распределение:\n",
      "Grocery                      802613\n",
      "Health & Personal Care        31705\n",
      "Amazon Home                    7383\n",
      "All Beauty                     1522\n",
      "Sports & Outdoors              1322\n",
      "Industrial & Scientific         902\n",
      "Office Products                 631\n",
      "Toys & Games                    304\n",
      "Pet Supplies                    125\n",
      "Tools & Home Improvement         53\n",
      "Baby                             34\n",
      "Arts, Crafts & Sewing            19\n",
      "Home Audio & Theater              9\n",
      "Camera & Photo                    8\n",
      "Musical Instruments               3\n",
      "Software                          3\n",
      "Cell Phones & Accessories         2\n",
      "Name: main_cat, dtype: int64,\n",
      "\n"
     ]
    }
   ],
   "source": [
    "info_col(df_train['main_cat'])"
   ]
  },
  {
   "cell_type": "markdown",
   "metadata": {},
   "source": [
    "Избавимся от пропусков"
   ]
  },
  {
   "cell_type": "code",
   "execution_count": 62,
   "metadata": {},
   "outputs": [],
   "source": [
    "df_train['main_cat'] = df_train['main_cat'].fillna('Other')"
   ]
  },
  {
   "cell_type": "markdown",
   "metadata": {},
   "source": [
    "## price"
   ]
  },
  {
   "cell_type": "code",
   "execution_count": 63,
   "metadata": {},
   "outputs": [
    {
     "name": "stdout",
     "output_type": "stream",
     "text": [
      "Количество пропусков: 258621,\n",
      "\n",
      "count     588972\n",
      "unique      4601\n",
      "top       $14.99\n",
      "freq       14241\n",
      "Name: price, dtype: object,\n",
      "\n",
      "Распределение:\n",
      "$14.99              14241\n",
      "$13.67              10660\n",
      "$19.99               9043\n",
      "$14.79               5632\n",
      "$15.53               5561\n",
      "                    ...  \n",
      "$20.33                  2\n",
      "$6.93                   1\n",
      "$44.14                  1\n",
      "$19.99 - $295.00        1\n",
      "$35.16                  1\n",
      "Name: price, Length: 4601, dtype: int64,\n",
      "\n"
     ]
    }
   ],
   "source": [
    "info_col(df_train['price'])"
   ]
  },
  {
   "cell_type": "code",
   "execution_count": 64,
   "metadata": {},
   "outputs": [],
   "source": [
    "price = df_train['price'].astype('str').apply(lambda x: re.sub('\\D', '', x))\n",
    "price = price.loc[price!=''].astype('float')\n",
    "price = price.loc[price<99999]\n",
    "pr_mean = round(price.mean(),2)\n",
    "price=None"
   ]
  },
  {
   "cell_type": "code",
   "execution_count": 65,
   "metadata": {},
   "outputs": [],
   "source": [
    "df_train['price'] = df_train['price'].astype('str').apply(lambda x: re.sub('\\D', '', x))"
   ]
  },
  {
   "cell_type": "code",
   "execution_count": 66,
   "metadata": {},
   "outputs": [],
   "source": [
    "df_train['price'] = df_train['price'].apply(lambda x: pr_mean if x =='' else x).astype('float')\n",
    "df_train['price'] = df_train['price'].apply(lambda x: pr_mean if x >999999 else x)"
   ]
  },
  {
   "cell_type": "code",
   "execution_count": 67,
   "metadata": {},
   "outputs": [
    {
     "name": "stdout",
     "output_type": "stream",
     "text": [
      "Количество пропусков: 0,\n",
      "\n",
      "count    847593.000000\n",
      "mean       2069.951567\n",
      "std        1457.295712\n",
      "min           1.000000\n",
      "25%        1398.000000\n",
      "50%        2069.950000\n",
      "75%        2112.000000\n",
      "max       99900.000000\n",
      "Name: price, dtype: float64,\n",
      "\n",
      "Распределение:\n",
      "2069.95    262592\n",
      "1499.00     14241\n",
      "1367.00     10660\n",
      "1999.00      9043\n",
      "1479.00      5632\n",
      "            ...  \n",
      "2848.00         2\n",
      "3005.00         2\n",
      "4414.00         1\n",
      "3516.00         1\n",
      "693.00          1\n",
      "Name: price, Length: 4528, dtype: int64,\n",
      "\n"
     ]
    }
   ],
   "source": [
    "info_col(df_train['price'])"
   ]
  },
  {
   "cell_type": "code",
   "execution_count": 68,
   "metadata": {},
   "outputs": [],
   "source": [
    "df_train['price'] = df_train['price'].apply(lambda x: cat_price(x))"
   ]
  },
  {
   "cell_type": "markdown",
   "metadata": {},
   "source": [
    "## also_buy"
   ]
  },
  {
   "cell_type": "markdown",
   "metadata": {},
   "source": [
    "Так же как и с \"also_view\", удаляем."
   ]
  },
  {
   "cell_type": "code",
   "execution_count": 69,
   "metadata": {},
   "outputs": [],
   "source": [
    "df_train = df_train.drop(['also_buy'], axis = 1)"
   ]
  },
  {
   "cell_type": "markdown",
   "metadata": {},
   "source": [
    "## image_y"
   ]
  },
  {
   "cell_type": "markdown",
   "metadata": {},
   "source": [
    "Картинки, удаляем"
   ]
  },
  {
   "cell_type": "code",
   "execution_count": 70,
   "metadata": {},
   "outputs": [],
   "source": [
    "df_train = df_train.drop(['image_y'], axis = 1)"
   ]
  },
  {
   "cell_type": "markdown",
   "metadata": {},
   "source": [
    "## date"
   ]
  },
  {
   "cell_type": "code",
   "execution_count": 71,
   "metadata": {},
   "outputs": [
    {
     "name": "stdout",
     "output_type": "stream",
     "text": [
      "Количество пропусков: 835506,\n",
      "\n",
      "count               12087\n",
      "unique                417\n",
      "top       January 1, 2006\n",
      "freq                  561\n",
      "Name: date, dtype: object,\n",
      "\n",
      "Распределение:\n",
      "January 1, 2006      561\n",
      "May 5, 2003          428\n",
      "October 29, 2003     424\n",
      "January 7, 2008      372\n",
      "March 10, 2004       294\n",
      "                    ... \n",
      "August 2, 2008         2\n",
      "December 21, 2007      2\n",
      "February 13, 2008      1\n",
      "February 21, 2015      1\n",
      "January 18, 2008       1\n",
      "Name: date, Length: 417, dtype: int64,\n",
      "\n"
     ]
    }
   ],
   "source": [
    "info_col(df_train['date'])"
   ]
  },
  {
   "cell_type": "markdown",
   "metadata": {},
   "source": [
    "Очень большое кол-во пропусков, скорее всего нужно удалять."
   ]
  },
  {
   "cell_type": "code",
   "execution_count": 72,
   "metadata": {},
   "outputs": [],
   "source": [
    "df_train = df_train.drop(['date'], axis = 1)"
   ]
  },
  {
   "cell_type": "markdown",
   "metadata": {},
   "source": [
    "## feature"
   ]
  },
  {
   "cell_type": "code",
   "execution_count": 73,
   "metadata": {},
   "outputs": [
    {
     "data": {
      "text/plain": [
       "982       [64 count of MISS VICKIE'S Kettle Cooked Jalap...\n",
       "983       [64 count of MISS VICKIE'S Kettle Cooked Jalap...\n",
       "984       [64 count of MISS VICKIE'S Kettle Cooked Jalap...\n",
       "985       [64 count of MISS VICKIE'S Kettle Cooked Jalap...\n",
       "986       [64 count of MISS VICKIE'S Kettle Cooked Jalap...\n",
       "                                ...                        \n",
       "847484    [Gourmet Spice Blend | Salt Free, All Natural ...\n",
       "847504    [Black Tea, 16 Infuser Tea Bags, Re-Sealable S...\n",
       "847553    [Cajun seasoning, 34-Ounce container, Great to...\n",
       "847554    [Cajun seasoning, 34-Ounce container, Great to...\n",
       "847558    [Proper name: Chlorophytum comosum 'Bonnie', G...\n",
       "Name: feature, Length: 142734, dtype: object"
      ]
     },
     "execution_count": 73,
     "metadata": {},
     "output_type": "execute_result"
    }
   ],
   "source": [
    "df_train['feature'].loc[df_train['feature'].isna()==False]"
   ]
  },
  {
   "cell_type": "markdown",
   "metadata": {},
   "source": [
    "Очень много пропусков, скорее всего нужно будет удалить"
   ]
  },
  {
   "cell_type": "code",
   "execution_count": 74,
   "metadata": {},
   "outputs": [],
   "source": [
    "df_train = df_train.drop(['feature'], axis = 1)"
   ]
  },
  {
   "cell_type": "markdown",
   "metadata": {},
   "source": [
    "## details"
   ]
  },
  {
   "cell_type": "markdown",
   "metadata": {},
   "source": [
    "Сложно представить пока что, что можно тут сделать, думаю, что целесообразнее будет удалить."
   ]
  },
  {
   "cell_type": "code",
   "execution_count": 75,
   "metadata": {},
   "outputs": [],
   "source": [
    "df_train = df_train.drop(['details'], axis = 1)"
   ]
  },
  {
   "cell_type": "markdown",
   "metadata": {},
   "source": [
    "## similar_item"
   ]
  },
  {
   "cell_type": "code",
   "execution_count": 76,
   "metadata": {},
   "outputs": [
    {
     "data": {
      "text/plain": [
       "115917    [{'asin': '', 'href': '', 'name': 'DoMatcha - ...\n",
       "115918    [{'asin': '', 'href': '', 'name': 'DoMatcha - ...\n",
       "115919    [{'asin': '', 'href': '', 'name': 'DoMatcha - ...\n",
       "115920    [{'asin': '', 'href': '', 'name': 'DoMatcha - ...\n",
       "115921    [{'asin': '', 'href': '', 'name': 'DoMatcha - ...\n",
       "                                ...                        \n",
       "843729    [{'asin': '', 'href': '', 'name': 'Epoca Silic...\n",
       "843730    [{'asin': '', 'href': '', 'name': 'Epoca Silic...\n",
       "843731    [{'asin': '', 'href': '', 'name': 'Epoca Silic...\n",
       "843732    [{'asin': '', 'href': '', 'name': 'Epoca Silic...\n",
       "843733    [{'asin': '', 'href': '', 'name': 'Epoca Silic...\n",
       "Name: similar_item, Length: 1138, dtype: object"
      ]
     },
     "execution_count": 76,
     "metadata": {},
     "output_type": "execute_result"
    }
   ],
   "source": [
    "df_train['similar_item'].loc[df_train['similar_item'].isna()==False]"
   ]
  },
  {
   "cell_type": "markdown",
   "metadata": {},
   "source": [
    "Очень много пропусков, нужно удалять"
   ]
  },
  {
   "cell_type": "code",
   "execution_count": 77,
   "metadata": {},
   "outputs": [],
   "source": [
    "df_train = df_train.drop(['similar_item'], axis = 1)"
   ]
  },
  {
   "cell_type": "markdown",
   "metadata": {},
   "source": [
    "## tech1"
   ]
  },
  {
   "cell_type": "code",
   "execution_count": 78,
   "metadata": {},
   "outputs": [
    {
     "data": {
      "text/plain": [
       "2779      {'Brand Name': 'Briceo Coffee', 'Item Weight':...\n",
       "2780      {'Brand Name': 'Briceo Coffee', 'Item Weight':...\n",
       "2781      {'Brand Name': 'Briceo Coffee', 'Item Weight':...\n",
       "2782      {'Brand Name': 'Briceo Coffee', 'Item Weight':...\n",
       "2783      {'Brand Name': 'Briceo Coffee', 'Item Weight':...\n",
       "                                ...                        \n",
       "841681    {'Brand Name': 'Twinings', 'Item Weight': '8 o...\n",
       "842662    {'Brand Name': 'Nestle Coffee Mate', 'Item Wei...\n",
       "842663    {'Brand Name': 'Nestle Coffee Mate', 'Item Wei...\n",
       "846645    {'Brand Name': 'Green & Black's', 'Item Weight...\n",
       "846646    {'Brand Name': 'Green & Black's', 'Item Weight...\n",
       "Name: tech1, Length: 4372, dtype: object"
      ]
     },
     "execution_count": 78,
     "metadata": {},
     "output_type": "execute_result"
    }
   ],
   "source": [
    "df_train['tech1'].loc[df_train['tech1'].isna()==False]"
   ]
  },
  {
   "cell_type": "markdown",
   "metadata": {},
   "source": [
    "Очень много пропусков, нужно удалять"
   ]
  },
  {
   "cell_type": "code",
   "execution_count": 79,
   "metadata": {},
   "outputs": [],
   "source": [
    "df_train = df_train.drop(['tech1'], axis = 1)"
   ]
  },
  {
   "cell_type": "markdown",
   "metadata": {},
   "source": [
    "## fit"
   ]
  },
  {
   "cell_type": "markdown",
   "metadata": {},
   "source": [
    "Очень много пропусков, нужно удалять"
   ]
  },
  {
   "cell_type": "code",
   "execution_count": 80,
   "metadata": {},
   "outputs": [],
   "source": [
    "df_train = df_train.drop(['fit'], axis = 1)"
   ]
  },
  {
   "cell_type": "markdown",
   "metadata": {},
   "source": [
    "## Анализ признаков"
   ]
  },
  {
   "cell_type": "markdown",
   "metadata": {},
   "source": [
    "Мы видим, что осталось обработать 10 категориальных признаков, из которых\n",
    "\n",
    "3 шт. (userid, itemid, rating) мы не трогаем\n",
    "\n",
    "признак overall отсутствует в тестовом датасете\n",
    "\n",
    "а для остальных 6 (verified, unixReviewTime, vote, rank, main_cat, price) можем сделать dummy-переменные."
   ]
  },
  {
   "cell_type": "code",
   "execution_count": 81,
   "metadata": {
    "scrolled": false
   },
   "outputs": [
    {
     "data": {
      "image/png": "[encoded data removed]",
      "text/plain": [
       "<Figure size 1008x288 with 1 Axes>"
      ]
     },
     "metadata": {
      "needs_background": "light"
     },
     "output_type": "display_data"
    },
    {
     "data": {
      "image/png": "[encoded data removed]",
      "text/plain": [
       "<Figure size 1008x288 with 1 Axes>"
      ]
     },
     "metadata": {
      "needs_background": "light"
     },
     "output_type": "display_data"
    },
    {
     "data": {
      "image/png": "[encoded data removed]",
      "text/plain": [
       "<Figure size 1008x288 with 1 Axes>"
      ]
     },
     "metadata": {
      "needs_background": "light"
     },
     "output_type": "display_data"
    },
    {
     "data": {
      "image/png": "[encoded data removed]",
      "text/plain": [
       "<Figure size 1008x288 with 1 Axes>"
      ]
     },
     "metadata": {
      "needs_background": "light"
     },
     "output_type": "display_data"
    },
    {
     "data": {
      "image/png": "[encoded data removed]",
      "text/plain": [
       "<Figure size 1008x288 with 1 Axes>"
      ]
     },
     "metadata": {
      "needs_background": "light"
     },
     "output_type": "display_data"
    },
    {
     "data": {
      "image/png": "[encoded data removed]",
      "text/plain": [
       "<Figure size 1008x288 with 1 Axes>"
      ]
     },
     "metadata": {
      "needs_background": "light"
     },
     "output_type": "display_data"
    }
   ],
   "source": [
    "for col in ['verified', 'unixReviewTime', 'vote', 'rank', 'main_cat', 'price']:\n",
    "    get_boxplot(col)"
   ]
  },
  {
   "cell_type": "markdown",
   "metadata": {},
   "source": [
    "По графикам сильных различий не видно. Проверим, есть ли статистическая разница в распределении оценок по номинативным признакам, с помощью теста Стьюдента. Проверим нулевую гипотезу о том, что распределения оценок пользователей по различным параметрам неразличимы:"
   ]
  },
  {
   "cell_type": "code",
   "execution_count": 82,
   "metadata": {},
   "outputs": [
    {
     "name": "stdout",
     "output_type": "stream",
     "text": [
      "Найдены статистически значимые различия для колонки verified\n",
      "Найдены статистически значимые различия для колонки unixReviewTime\n",
      "Найдены статистически значимые различия для колонки vote\n",
      "Найдены статистически значимые различия для колонки rank\n",
      "Найдены статистически значимые различия для колонки main_cat\n",
      "Найдены статистически значимые различия для колонки price\n"
     ]
    }
   ],
   "source": [
    "for col in ['verified', 'unixReviewTime', 'vote', 'rank', 'main_cat', 'price']:\n",
    "    get_stat_dif(col)"
   ]
  },
  {
   "cell_type": "markdown",
   "metadata": {},
   "source": [
    "Распределение оценок серьезно различается по всем шести параметрам."
   ]
  },
  {
   "cell_type": "code",
   "execution_count": 83,
   "metadata": {},
   "outputs": [],
   "source": [
    "df_train = df_train.drop(['overall'], axis = 1)"
   ]
  },
  {
   "cell_type": "markdown",
   "metadata": {},
   "source": [
    "## Обучение модели"
   ]
  },
  {
   "cell_type": "markdown",
   "metadata": {},
   "source": [
    "Разделим тренировочный датасет на тренировочную и тестовую выборки"
   ]
  },
  {
   "cell_type": "code",
   "execution_count": 84,
   "metadata": {},
   "outputs": [],
   "source": [
    "train_data, test_data = train_test_split(df_train,random_state=42, shuffle=True)"
   ]
  },
  {
   "cell_type": "code",
   "execution_count": 85,
   "metadata": {},
   "outputs": [
    {
     "data": {
      "text/plain": [
       "((635694, 609), (211899, 609))"
      ]
     },
     "execution_count": 85,
     "metadata": {},
     "output_type": "execute_result"
    }
   ],
   "source": [
    "train_data.shape, test_data.shape"
   ]
  },
  {
   "cell_type": "markdown",
   "metadata": {},
   "source": [
    "Чтобы работать с моделями в библиотеке LightFm, нам нужно создать разреженные матрицы. Мы будем хранить данные в формате COO (координатный формат представления данных). Вместо хранения всех значений, которые включают нулевые значения, мы будем хранить только ненулевые значения. В COO данные представлены в виде (строка, столбец, значение)."
   ]
  },
  {
   "cell_type": "code",
   "execution_count": 86,
   "metadata": {},
   "outputs": [],
   "source": [
    "ratings_coo = sparse.coo_matrix((train_data['rating'].astype(int),\n",
    "                                 (train_data['userid'],\n",
    "                                  train_data['itemid'],)))"
   ]
  },
  {
   "cell_type": "code",
   "execution_count": 87,
   "metadata": {},
   "outputs": [],
   "source": [
    "LR = 0.089\n",
    "NUM_THREADS = 20  # число потоков\n",
    "NUM_COMPONENTS = 300  # число параметров вектора\n",
    "NUM_EPOCHS = 30  # число эпох обучения\n",
    "LEARNING_SCHEDULE = 'adagrad'\n",
    "LOSS_FUNCTION = 'logistic'\n",
    "RANDOM_STATE = 42\n",
    "\n",
    "model = LightFM(learning_rate=LR,\n",
    "                loss=LOSS_FUNCTION,\n",
    "                no_components=NUM_COMPONENTS,\n",
    "                learning_schedule=LEARNING_SCHEDULE,\n",
    "                random_state=RANDOM_STATE)\n",
    "\n",
    "model = model.fit(ratings_coo,\n",
    "                  epochs=NUM_EPOCHS,\n",
    "                  num_threads=NUM_THREADS)"
   ]
  },
  {
   "cell_type": "markdown",
   "metadata": {},
   "source": [
    "Получим предсказания"
   ]
  },
  {
   "cell_type": "code",
   "execution_count": 88,
   "metadata": {},
   "outputs": [],
   "source": [
    "preds = model.predict(test_data['userid'].values,\n",
    "                      test_data['itemid'].values)"
   ]
  },
  {
   "cell_type": "markdown",
   "metadata": {},
   "source": [
    "Посчитаем метрику roc_auc_score"
   ]
  },
  {
   "cell_type": "code",
   "execution_count": 89,
   "metadata": {},
   "outputs": [
    {
     "data": {
      "text/plain": [
       "0.7370675618834893"
      ]
     },
     "execution_count": 89,
     "metadata": {},
     "output_type": "execute_result"
    }
   ],
   "source": [
    "sklearn.metrics.roc_auc_score(test_data['rating'],preds)"
   ]
  },
  {
   "cell_type": "markdown",
   "metadata": {},
   "source": [
    "Вцелом неплохо, осталось только доделать submission на kaggle"
   ]
  },
  {
   "cell_type": "markdown",
   "metadata": {},
   "source": [
    "# Вывод"
   ]
  },
  {
   "cell_type": "markdown",
   "metadata": {},
   "source": [
    "Был произведён EDA, генерация признаков и обучение модели. Получил скор 0.74745. Таким образом, удалось достичь определённых успехов."
   ]
  }
 ],
 "metadata": {
  "kernelspec": {
   "display_name": "Python 3",
   "language": "python",
   "name": "python3"
  },
  "language_info": {
   "codemirror_mode": {
    "name": "ipython",
    "version": 3
   },
   "file_extension": ".py",
   "mimetype": "text/x-python",
   "name": "python",
   "nbconvert_exporter": "python",
   "pygments_lexer": "ipython3",
   "version": "3.7.9"
  }
 },
 "nbformat": 4,
 "nbformat_minor": 4
}
